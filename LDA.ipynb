{
 "cells": [
  {
   "cell_type": "code",
   "execution_count": 18,
   "id": "0506cb1c",
   "metadata": {},
   "outputs": [],
   "source": [
    "import re\n",
    "import numpy as np\n",
    "import pandas as pd\n",
    "from pprint import pprint\n",
    "\n",
    "# Gensim\n",
    "import gensim\n",
    "import gensim.corpora as corpora\n",
    "from gensim.utils import simple_preprocess\n",
    "from gensim.models import CoherenceModel\n",
    "\n",
    "# spacy for lemmatization\n",
    "import spacy\n",
    "\n",
    "# Plotting tools\n",
    "import pyLDAvis\n",
    "import pyLDAvis.gensim_models  # don't skip this\n",
    "import matplotlib.pyplot as plt\n",
    "%matplotlib inline\n",
    "\n",
    "# Enable logging for gensim - optional\n",
    "import logging\n",
    "logging.basicConfig(format='%(asctime)s : %(levelname)s : %(message)s', level=logging.ERROR)\n",
    "\n",
    "import warnings\n",
    "warnings.filterwarnings(\"ignore\",category=DeprecationWarning)"
   ]
  },
  {
   "cell_type": "code",
   "execution_count": 2,
   "id": "8bcb497f",
   "metadata": {},
   "outputs": [],
   "source": [
    "from nltk.corpus import stopwords\n",
    "stop_words = stopwords.words('english')\n",
    "stop_words.extend(['from', 'subject', 're', 'edu', 'use'])"
   ]
  },
  {
   "cell_type": "code",
   "execution_count": 3,
   "id": "55b77c96",
   "metadata": {},
   "outputs": [
    {
     "name": "stdout",
     "output_type": "stream",
     "text": [
      "['rec.autos' 'comp.sys.mac.hardware' 'comp.graphics' 'sci.space'\n",
      " 'talk.politics.guns' 'sci.med' 'comp.sys.ibm.pc.hardware'\n",
      " 'comp.os.ms-windows.misc' 'rec.motorcycles' 'talk.religion.misc'\n",
      " 'misc.forsale' 'alt.atheism' 'sci.electronics' 'comp.windows.x'\n",
      " 'rec.sport.hockey' 'rec.sport.baseball' 'soc.religion.christian'\n",
      " 'talk.politics.mideast' 'talk.politics.misc' 'sci.crypt']\n"
     ]
    },
    {
     "data": {
      "text/html": [
       "<div>\n",
       "<style scoped>\n",
       "    .dataframe tbody tr th:only-of-type {\n",
       "        vertical-align: middle;\n",
       "    }\n",
       "\n",
       "    .dataframe tbody tr th {\n",
       "        vertical-align: top;\n",
       "    }\n",
       "\n",
       "    .dataframe thead th {\n",
       "        text-align: right;\n",
       "    }\n",
       "</style>\n",
       "<table border=\"1\" class=\"dataframe\">\n",
       "  <thead>\n",
       "    <tr style=\"text-align: right;\">\n",
       "      <th></th>\n",
       "      <th>Unnamed: 0</th>\n",
       "      <th>content</th>\n",
       "      <th>target</th>\n",
       "      <th>target_names</th>\n",
       "    </tr>\n",
       "  </thead>\n",
       "  <tbody>\n",
       "    <tr>\n",
       "      <th>0</th>\n",
       "      <td>0</td>\n",
       "      <td>From: lerxst@wam.umd.edu (where's my thing)\\nS...</td>\n",
       "      <td>7</td>\n",
       "      <td>rec.autos</td>\n",
       "    </tr>\n",
       "    <tr>\n",
       "      <th>1</th>\n",
       "      <td>1</td>\n",
       "      <td>From: guykuo@carson.u.washington.edu (Guy Kuo)...</td>\n",
       "      <td>4</td>\n",
       "      <td>comp.sys.mac.hardware</td>\n",
       "    </tr>\n",
       "    <tr>\n",
       "      <th>2</th>\n",
       "      <td>2</td>\n",
       "      <td>From: twillis@ec.ecn.purdue.edu (Thomas E Will...</td>\n",
       "      <td>4</td>\n",
       "      <td>comp.sys.mac.hardware</td>\n",
       "    </tr>\n",
       "    <tr>\n",
       "      <th>3</th>\n",
       "      <td>3</td>\n",
       "      <td>From: jgreen@amber (Joe Green)\\nSubject: Re: W...</td>\n",
       "      <td>1</td>\n",
       "      <td>comp.graphics</td>\n",
       "    </tr>\n",
       "    <tr>\n",
       "      <th>4</th>\n",
       "      <td>4</td>\n",
       "      <td>From: jcm@head-cfa.harvard.edu (Jonathan McDow...</td>\n",
       "      <td>14</td>\n",
       "      <td>sci.space</td>\n",
       "    </tr>\n",
       "  </tbody>\n",
       "</table>\n",
       "</div>"
      ],
      "text/plain": [
       "   Unnamed: 0                                            content  target  \\\n",
       "0           0  From: lerxst@wam.umd.edu (where's my thing)\\nS...       7   \n",
       "1           1  From: guykuo@carson.u.washington.edu (Guy Kuo)...       4   \n",
       "2           2  From: twillis@ec.ecn.purdue.edu (Thomas E Will...       4   \n",
       "3           3  From: jgreen@amber (Joe Green)\\nSubject: Re: W...       1   \n",
       "4           4  From: jcm@head-cfa.harvard.edu (Jonathan McDow...      14   \n",
       "\n",
       "            target_names  \n",
       "0              rec.autos  \n",
       "1  comp.sys.mac.hardware  \n",
       "2  comp.sys.mac.hardware  \n",
       "3          comp.graphics  \n",
       "4              sci.space  "
      ]
     },
     "execution_count": 3,
     "metadata": {},
     "output_type": "execute_result"
    }
   ],
   "source": [
    "# Import Dataset\n",
    "df = pd.read_csv('newsgroups.csv')\n",
    "print(df.target_names.unique())\n",
    "df.head()"
   ]
  },
  {
   "cell_type": "markdown",
   "id": "32687f93",
   "metadata": {},
   "source": [
    "## Preprocess"
   ]
  },
  {
   "cell_type": "code",
   "execution_count": 4,
   "id": "77a0af1a",
   "metadata": {},
   "outputs": [
    {
     "name": "stdout",
     "output_type": "stream",
     "text": [
      "['From: (wheres my thing) Subject: WHAT car is this!? Nntp-Posting-Host: '\n",
      " 'rac3.wam.umd.edu Organization: University of Maryland, College Park Lines: '\n",
      " '15 I was wondering if anyone out there could enlighten me on this car I saw '\n",
      " 'the other day. It was a 2-door sports car, looked to be from the late 60s/ '\n",
      " 'early 70s. It was called a Bricklin. The doors were really small. In '\n",
      " 'addition, the front bumper was separate from the rest of the body. This is '\n",
      " 'all I know. If anyone can tellme a model name, engine specs, years of '\n",
      " 'production, where this car is made, history, or whatever info you have on '\n",
      " 'this funky looking car, please e-mail. Thanks, - IL ---- brought to you by '\n",
      " 'your neighborhood Lerxst ---- ']\n"
     ]
    }
   ],
   "source": [
    "# Convert to list\n",
    "data = df.content.values.tolist()\n",
    "\n",
    "# Remove Emails\n",
    "data = [re.sub('\\S*@\\S*\\s?', '', sent) for sent in data]\n",
    "\n",
    "# Remove new line characters\n",
    "data = [re.sub('\\s+', ' ', sent) for sent in data]\n",
    "\n",
    "# Remove distracting single quotes\n",
    "data = [re.sub(\"\\'\", \"\", sent) for sent in data]\n",
    "\n",
    "pprint(data[:1])"
   ]
  },
  {
   "cell_type": "code",
   "execution_count": 5,
   "id": "5ce138ae",
   "metadata": {},
   "outputs": [
    {
     "name": "stdout",
     "output_type": "stream",
     "text": [
      "[['from', 'wheres', 'my', 'thing', 'subject', 'what', 'car', 'is', 'this', 'nntp', 'posting', 'host', 'rac', 'wam', 'umd', 'edu', 'organization', 'university', 'of', 'maryland', 'college', 'park', 'lines', 'was', 'wondering', 'if', 'anyone', 'out', 'there', 'could', 'enlighten', 'me', 'on', 'this', 'car', 'saw', 'the', 'other', 'day', 'it', 'was', 'door', 'sports', 'car', 'looked', 'to', 'be', 'from', 'the', 'late', 'early', 'it', 'was', 'called', 'bricklin', 'the', 'doors', 'were', 'really', 'small', 'in', 'addition', 'the', 'front', 'bumper', 'was', 'separate', 'from', 'the', 'rest', 'of', 'the', 'body', 'this', 'is', 'all', 'know', 'if', 'anyone', 'can', 'tellme', 'model', 'name', 'engine', 'specs', 'years', 'of', 'production', 'where', 'this', 'car', 'is', 'made', 'history', 'or', 'whatever', 'info', 'you', 'have', 'on', 'this', 'funky', 'looking', 'car', 'please', 'mail', 'thanks', 'il', 'brought', 'to', 'you', 'by', 'your', 'neighborhood', 'lerxst']]\n"
     ]
    }
   ],
   "source": [
    "def sent_to_words(sentences):\n",
    "    for sentence in sentences:\n",
    "        yield(gensim.utils.simple_preprocess(str(sentence), deacc=True))  # deacc=True removes punctuations\n",
    "\n",
    "data_words = list(sent_to_words(data))\n",
    "\n",
    "print(data_words[:1])\n"
   ]
  },
  {
   "cell_type": "code",
   "execution_count": 6,
   "id": "486a1b19",
   "metadata": {},
   "outputs": [
    {
     "name": "stdout",
     "output_type": "stream",
     "text": [
      "['from', 'wheres', 'my', 'thing', 'subject', 'what', 'car', 'is', 'this', 'nntp_posting_host', 'rac_wam_umd_edu', 'organization', 'university', 'of', 'maryland_college_park', 'lines', 'was', 'wondering', 'if', 'anyone', 'out', 'there', 'could', 'enlighten', 'me', 'on', 'this', 'car', 'saw', 'the', 'other', 'day', 'it', 'was', 'door', 'sports', 'car', 'looked', 'to', 'be', 'from', 'the', 'late', 'early', 'it', 'was', 'called', 'bricklin', 'the', 'doors', 'were', 'really', 'small', 'in', 'addition', 'the', 'front_bumper', 'was', 'separate', 'from', 'the', 'rest', 'of', 'the', 'body', 'this', 'is', 'all', 'know', 'if', 'anyone', 'can', 'tellme', 'model', 'name', 'engine', 'specs', 'years', 'of', 'production', 'where', 'this', 'car', 'is', 'made', 'history', 'or', 'whatever', 'info', 'you', 'have', 'on', 'this', 'funky', 'looking', 'car', 'please', 'mail', 'thanks', 'il', 'brought', 'to', 'you', 'by', 'your', 'neighborhood', 'lerxst']\n"
     ]
    }
   ],
   "source": [
    "# Build the bigram and trigram models\n",
    "bigram = gensim.models.Phrases(data_words, min_count=5, threshold=100) # higher threshold fewer phrases.\n",
    "trigram = gensim.models.Phrases(bigram[data_words], threshold=100)  \n",
    "\n",
    "# Faster way to get a sentence clubbed as a trigram/bigram\n",
    "bigram_mod = gensim.models.phrases.Phraser(bigram)\n",
    "trigram_mod = gensim.models.phrases.Phraser(trigram)\n",
    "\n",
    "# See trigram example\n",
    "print(trigram_mod[bigram_mod[data_words[0]]])\n"
   ]
  },
  {
   "cell_type": "code",
   "execution_count": 7,
   "id": "e21cd81d",
   "metadata": {},
   "outputs": [],
   "source": [
    "# Define functions for stopwords, bigrams, trigrams and lemmatization\n",
    "def remove_stopwords(texts):\n",
    "    return [[word for word in simple_preprocess(str(doc)) if word not in stop_words] for doc in texts]\n",
    "\n",
    "def make_bigrams(texts):\n",
    "    return [bigram_mod[doc] for doc in texts]\n",
    "\n",
    "def make_trigrams(texts):\n",
    "    return [trigram_mod[bigram_mod[doc]] for doc in texts]\n",
    "\n",
    "def lemmatization(texts, allowed_postags=['NOUN', 'ADJ', 'VERB', 'ADV']):\n",
    "    texts_out = []\n",
    "    for sent in texts:\n",
    "        doc = nlp(\" \".join(sent)) \n",
    "        texts_out.append([token.lemma_ for token in doc if token.pos_ in allowed_postags])\n",
    "    return texts_out"
   ]
  },
  {
   "cell_type": "code",
   "execution_count": 8,
   "id": "1e7a3185",
   "metadata": {},
   "outputs": [
    {
     "name": "stdout",
     "output_type": "stream",
     "text": [
      "[['thing', 'car', 'nntp_poste', 'host', 'rac_wam', 'park', 'line', 'wonder', 'enlighten', 'car', 'see', 'day', 'door', 'sport', 'car', 'look', 'late', 'early', 'call', 'door', 'really', 'small', 'addition', 'front_bumper', 'separate', 'rest', 'body', 'know', 'tellme', 'model', 'name', 'engine', 'spec', 'year', 'production', 'car', 'make', 'history', 'info', 'funky', 'look', 'car', 'mail', 'thank', 'bring', 'neighborhood', 'lerxst']]\n"
     ]
    }
   ],
   "source": [
    "# Remove Stop Words\n",
    "data_words_nostops = remove_stopwords(data_words)\n",
    "\n",
    "# Form Bigrams\n",
    "data_words_bigrams = make_bigrams(data_words_nostops)\n",
    "\n",
    "# Initialize spacy 'en' model, keeping only tagger component (for efficiency)\n",
    "# python -m spacy download en\n",
    "nlp = spacy.load('en_core_web_sm', disable=['parser', 'ner'])\n",
    "\n",
    "# Do lemmatization keeping only noun, adj, vb, adv\n",
    "data_lemmatized = lemmatization(data_words_bigrams, allowed_postags=['NOUN', 'ADJ', 'VERB', 'ADV'])\n",
    "\n",
    "print(data_lemmatized[:1])\n"
   ]
  },
  {
   "cell_type": "markdown",
   "id": "af5b1a5e",
   "metadata": {},
   "source": [
    "##  Create the Dictionary and Corpus"
   ]
  },
  {
   "cell_type": "code",
   "execution_count": 9,
   "id": "2a05d244",
   "metadata": {},
   "outputs": [
    {
     "name": "stdout",
     "output_type": "stream",
     "text": [
      "[[(0, 1), (1, 1), (2, 1), (3, 1), (4, 5), (5, 1), (6, 2), (7, 1), (8, 1), (9, 1), (10, 1), (11, 1), (12, 1), (13, 1), (14, 1), (15, 1), (16, 1), (17, 1), (18, 1), (19, 2), (20, 1), (21, 1), (22, 1), (23, 1), (24, 1), (25, 1), (26, 1), (27, 1), (28, 1), (29, 1), (30, 1), (31, 1), (32, 1), (33, 1), (34, 1), (35, 1), (36, 1), (37, 1), (38, 1), (39, 1), (40, 1)]]\n"
     ]
    }
   ],
   "source": [
    "# Create Dictionary\n",
    "id2word = corpora.Dictionary(data_lemmatized)\n",
    "\n",
    "# Create Corpus\n",
    "texts = data_lemmatized\n",
    "\n",
    "# Term Document Frequency\n",
    "corpus = [id2word.doc2bow(text) for text in texts]\n",
    "\n",
    "# View\n",
    "print(corpus[:1])\n"
   ]
  },
  {
   "cell_type": "code",
   "execution_count": 10,
   "id": "fc255e3c",
   "metadata": {},
   "outputs": [
    {
     "data": {
      "text/plain": [
       "[[('addition', 1),\n",
       "  ('body', 1),\n",
       "  ('bring', 1),\n",
       "  ('call', 1),\n",
       "  ('car', 5),\n",
       "  ('day', 1),\n",
       "  ('door', 2),\n",
       "  ('early', 1),\n",
       "  ('engine', 1),\n",
       "  ('enlighten', 1),\n",
       "  ('front_bumper', 1),\n",
       "  ('funky', 1),\n",
       "  ('history', 1),\n",
       "  ('host', 1),\n",
       "  ('info', 1),\n",
       "  ('know', 1),\n",
       "  ('late', 1),\n",
       "  ('lerxst', 1),\n",
       "  ('line', 1),\n",
       "  ('look', 2),\n",
       "  ('mail', 1),\n",
       "  ('make', 1),\n",
       "  ('model', 1),\n",
       "  ('name', 1),\n",
       "  ('neighborhood', 1),\n",
       "  ('nntp_poste', 1),\n",
       "  ('park', 1),\n",
       "  ('production', 1),\n",
       "  ('rac_wam', 1),\n",
       "  ('really', 1),\n",
       "  ('rest', 1),\n",
       "  ('see', 1),\n",
       "  ('separate', 1),\n",
       "  ('small', 1),\n",
       "  ('spec', 1),\n",
       "  ('sport', 1),\n",
       "  ('tellme', 1),\n",
       "  ('thank', 1),\n",
       "  ('thing', 1),\n",
       "  ('wonder', 1),\n",
       "  ('year', 1)]]"
      ]
     },
     "execution_count": 10,
     "metadata": {},
     "output_type": "execute_result"
    }
   ],
   "source": [
    "[[(id2word[id], freq) for id, freq in cp] for cp in corpus[:1]]"
   ]
  },
  {
   "cell_type": "markdown",
   "id": "9ca94519",
   "metadata": {},
   "source": [
    "## Building the Topic Model"
   ]
  },
  {
   "cell_type": "code",
   "execution_count": 11,
   "id": "e01be4ee",
   "metadata": {},
   "outputs": [],
   "source": [
    "lda_model = gensim.models.ldamodel.LdaModel(corpus=corpus,\n",
    "                                           id2word=id2word,\n",
    "                                           num_topics=20, \n",
    "                                           random_state=100,\n",
    "                                           update_every=1,\n",
    "                                           chunksize=100,\n",
    "                                           passes=10,\n",
    "                                           alpha='auto',\n",
    "                                           per_word_topics=True)"
   ]
  },
  {
   "cell_type": "code",
   "execution_count": 12,
   "id": "f42b8ea7",
   "metadata": {},
   "outputs": [
    {
     "name": "stdout",
     "output_type": "stream",
     "text": [
      "[(0,\n",
      "  '0.705*\"ax\" + 0.026*\"graphic\" + 0.013*\"peace\" + 0.013*\"bomb\" + '\n",
      "  '0.012*\"convert\" + 0.009*\"homosexual\" + 0.007*\"violence\" + 0.006*\"capture\" + '\n",
      "  '0.006*\"birth\" + 0.005*\"gif\"'),\n",
      " (1,\n",
      "  '0.028*\"people\" + 0.019*\"say\" + 0.013*\"believe\" + 0.013*\"reason\" + '\n",
      "  '0.012*\"point\" + 0.011*\"evidence\" + 0.011*\"mean\" + 0.011*\"many\" + '\n",
      "  '0.011*\"make\" + 0.010*\"state\"'),\n",
      " (2,\n",
      "  '0.057*\"trust\" + 0.049*\"stupid\" + 0.043*\"session\" + 0.032*\"registration\" + '\n",
      "  '0.028*\"conference\" + 0.026*\"implementation\" + 0.021*\"speaker\" + '\n",
      "  '0.021*\"beautiful\" + 0.018*\"fish\" + 0.018*\"custom\"'),\n",
      " (3,\n",
      "  '0.092*\"mail\" + 0.055*\"price\" + 0.049*\"sale\" + 0.040*\"cpu\" + 0.036*\"pin\" + '\n",
      "  '0.033*\"disk\" + 0.030*\"offer\" + 0.029*\"tape\" + 0.022*\"board\" + 0.021*\"bus\"'),\n",
      " (4,\n",
      "  '0.208*\"window\" + 0.068*\"server\" + 0.062*\"package\" + 0.044*\"motif\" + '\n",
      "  '0.033*\"mit\" + 0.028*\"crash\" + 0.022*\"application\" + 0.014*\"event\" + '\n",
      "  '0.013*\"programmer\" + 0.013*\"honor\"'),\n",
      " (5,\n",
      "  '0.058*\"system\" + 0.046*\"use\" + 0.027*\"bit\" + 0.025*\"computer\" + '\n",
      "  '0.023*\"problem\" + 0.017*\"machine\" + 0.016*\"software\" + 0.016*\"run\" + '\n",
      "  '0.015*\"datum\" + 0.015*\"chip\"'),\n",
      " (6,\n",
      "  '0.032*\"get\" + 0.025*\"know\" + 0.025*\"go\" + 0.022*\"good\" + 0.019*\"think\" + '\n",
      "  '0.018*\"m\" + 0.017*\"time\" + 0.016*\"make\" + 0.016*\"well\" + 0.015*\"see\"'),\n",
      " (7,\n",
      "  '0.079*\"car\" + 0.031*\"bike\" + 0.026*\"wire\" + 0.022*\"engine\" + 0.020*\"ride\" + '\n",
      "  '0.019*\"internal\" + 0.018*\"light\" + 0.017*\"direct\" + 0.017*\"road\" + '\n",
      "  '0.016*\"ground\"'),\n",
      " (8,\n",
      "  '0.076*\"monitor\" + 0.062*\"controller\" + 0.046*\"trial\" + 0.041*\"cop\" + '\n",
      "  '0.041*\"signal\" + 0.039*\"step\" + 0.031*\"circuit\" + 0.026*\"dream\" + '\n",
      "  '0.026*\"ethnic\" + 0.023*\"insert\"'),\n",
      " (9,\n",
      "  '0.064*\"science\" + 0.052*\"patient\" + 0.048*\"study\" + 0.025*\"health\" + '\n",
      "  '0.025*\"disease\" + 0.024*\"scientific\" + 0.022*\"treatment\" + 0.019*\"risk\" + '\n",
      "  '0.019*\"insist\" + 0.018*\"waste\"'),\n",
      " (10,\n",
      "  '0.083*\"team\" + 0.079*\"game\" + 0.055*\"play\" + 0.050*\"win\" + 0.042*\"year\" + '\n",
      "  '0.025*\"fan\" + 0.023*\"run\" + 0.020*\"score\" + 0.019*\"notice\" + '\n",
      "  '0.017*\"division\"'),\n",
      " (11,\n",
      "  '0.180*\"line\" + 0.132*\"write\" + 0.116*\"organization\" + 0.099*\"article\" + '\n",
      "  '0.076*\"nntp_poste\" + 0.069*\"host\" + 0.037*\"reply\" + 0.032*\"thank\" + '\n",
      "  '0.024*\"university\" + 0.016*\"com\"'),\n",
      " (12,\n",
      "  '0.022*\"power\" + 0.019*\"high\" + 0.017*\"large\" + 0.014*\"small\" + '\n",
      "  '0.014*\"number\" + 0.014*\"player\" + 0.013*\"area\" + 0.013*\"low\" + '\n",
      "  '0.010*\"local\" + 0.010*\"increase\"'),\n",
      " (13,\n",
      "  '0.093*\"space\" + 0.028*\"community\" + 0.028*\"earth\" + 0.025*\"launch\" + '\n",
      "  '0.022*\"mission\" + 0.021*\"orbit\" + 0.021*\"moon\" + 0.018*\"satellite\" + '\n",
      "  '0.018*\"announcement\" + 0.016*\"plane\"'),\n",
      " (14,\n",
      "  '0.144*\"color\" + 0.052*\"distribution_usa\" + 0.043*\"past\" + 0.025*\"stream\" + '\n",
      "  '0.020*\"usa\" + 0.016*\"unique\" + 0.015*\"ins_cwru\" + 0.014*\"turbo\" + '\n",
      "  '0.014*\"jim_frost\" + 0.014*\"porsche\"'),\n",
      " (15,\n",
      "  '0.142*\"key\" + 0.038*\"security\" + 0.037*\"public\" + 0.031*\"clipper\" + '\n",
      "  '0.031*\"master\" + 0.024*\"secure\" + 0.022*\"secret\" + 0.022*\"air\" + '\n",
      "  '0.021*\"government\" + 0.020*\"chip\"'),\n",
      " (16,\n",
      "  '0.192*\"drive\" + 0.095*\"card\" + 0.076*\"driver\" + 0.060*\"test\" + '\n",
      "  '0.031*\"replace\" + 0.028*\"family\" + 0.025*\"period\" + 0.022*\"bill\" + '\n",
      "  '0.022*\"printer\" + 0.018*\"warranty\"'),\n",
      " (17,\n",
      "  '0.018*\"program\" + 0.017*\"file\" + 0.016*\"include\" + 0.015*\"information\" + '\n",
      "  '0.015*\"do\" + 0.014*\"send\" + 0.014*\"also\" + 0.012*\"set\" + 0.012*\"message\" + '\n",
      "  '0.012*\"source\"'),\n",
      " (18,\n",
      "  '0.052*\"physical\" + 0.033*\"israeli\" + 0.030*\"soldier\" + 0.029*\"war\" + '\n",
      "  '0.026*\"village\" + 0.025*\"attack\" + 0.024*\"armenian\" + 0.022*\"kill\" + '\n",
      "  '0.018*\"turkish\" + 0.016*\"withdraw\"'),\n",
      " (19,\n",
      "  '0.052*\"man\" + 0.039*\"gun\" + 0.036*\"child\" + 0.027*\"death\" + 0.026*\"accept\" '\n",
      "  '+ 0.025*\"speak\" + 0.023*\"belief\" + 0.023*\"truth\" + 0.023*\"god\" + '\n",
      "  '0.022*\"kill\"')]\n"
     ]
    }
   ],
   "source": [
    "pprint(lda_model.print_topics())\n",
    "doc_lda = lda_model[corpus]"
   ]
  },
  {
   "cell_type": "code",
   "execution_count": 13,
   "id": "863ac251",
   "metadata": {},
   "outputs": [
    {
     "name": "stdout",
     "output_type": "stream",
     "text": [
      "\n",
      "Perplexity:  -13.488097326843912\n",
      "\n",
      "Coherence Score:  0.4915515915416987\n"
     ]
    }
   ],
   "source": [
    "# Compute Perplexity\n",
    "print('\\nPerplexity: ', lda_model.log_perplexity(corpus))  # a measure of how good the model is. lower the better.\n",
    "\n",
    "# Compute Coherence Score\n",
    "coherence_model_lda = CoherenceModel(model=lda_model, texts=data_lemmatized, dictionary=id2word, coherence='c_v')\n",
    "coherence_lda = coherence_model_lda.get_coherence()\n",
    "print('\\nCoherence Score: ', coherence_lda)\n"
   ]
  },
  {
   "cell_type": "code",
   "execution_count": 19,
   "id": "821e40ab",
   "metadata": {},
   "outputs": [
    {
     "name": "stderr",
     "output_type": "stream",
     "text": [
      "/Users/timothyray/opt/anaconda3/lib/python3.9/site-packages/pyLDAvis/_prepare.py:246: FutureWarning: In a future version of pandas all arguments of DataFrame.drop except for the argument 'labels' will be keyword-only\n",
      "  default_term_info = default_term_info.sort_values(\n",
      "/Users/timothyray/opt/anaconda3/lib/python3.9/site-packages/past/builtins/misc.py:45: DeprecationWarning: the imp module is deprecated in favour of importlib; see the module's documentation for alternative uses\n",
      "  from imp import reload\n",
      "/Users/timothyray/opt/anaconda3/lib/python3.9/site-packages/past/builtins/misc.py:45: DeprecationWarning: the imp module is deprecated in favour of importlib; see the module's documentation for alternative uses\n",
      "  from imp import reload\n",
      "/Users/timothyray/opt/anaconda3/lib/python3.9/site-packages/past/builtins/misc.py:45: DeprecationWarning: the imp module is deprecated in favour of importlib; see the module's documentation for alternative uses\n",
      "  from imp import reload\n",
      "/Users/timothyray/opt/anaconda3/lib/python3.9/site-packages/past/builtins/misc.py:45: DeprecationWarning: the imp module is deprecated in favour of importlib; see the module's documentation for alternative uses\n",
      "  from imp import reload\n",
      "/Users/timothyray/opt/anaconda3/lib/python3.9/site-packages/past/builtins/misc.py:45: DeprecationWarning: the imp module is deprecated in favour of importlib; see the module's documentation for alternative uses\n",
      "  from imp import reload\n",
      "/Users/timothyray/opt/anaconda3/lib/python3.9/site-packages/past/builtins/misc.py:45: DeprecationWarning: the imp module is deprecated in favour of importlib; see the module's documentation for alternative uses\n",
      "  from imp import reload\n",
      "/Users/timothyray/opt/anaconda3/lib/python3.9/site-packages/past/builtins/misc.py:45: DeprecationWarning: the imp module is deprecated in favour of importlib; see the module's documentation for alternative uses\n",
      "  from imp import reload\n",
      "/Users/timothyray/opt/anaconda3/lib/python3.9/site-packages/past/builtins/misc.py:45: DeprecationWarning: the imp module is deprecated in favour of importlib; see the module's documentation for alternative uses\n",
      "  from imp import reload\n"
     ]
    },
    {
     "data": {
      "text/html": [
       "\n",
       "<link rel=\"stylesheet\" type=\"text/css\" href=\"https://cdn.jsdelivr.net/gh/bmabey/pyLDAvis@3.3.1/pyLDAvis/js/ldavis.v1.0.0.css\">\n",
       "\n",
       "\n",
       "<div id=\"ldavis_el245591406190591073121394701805\"></div>\n",
       "<script type=\"text/javascript\">\n",
       "\n",
       "var ldavis_el245591406190591073121394701805_data = {\"mdsDat\": {\"x\": [-0.32661766143793225, -0.3332227466062327, -0.28577064725994245, -0.13410180845377206, -0.16377935771095184, -0.08942826382942806, 0.06197989056328673, 0.015074515720322588, 0.007001903906698868, 0.057252537917787096, 0.06514223389105567, 0.038376839009100765, 0.06794125461521668, 0.06793406153765105, 0.09834217644204257, 0.11684893831517783, 0.1613977983366909, 0.17889902944864455, 0.19670355148420535, 0.20002575411037743], \"y\": [-0.1341391507643727, -0.12518457364960833, -0.06044365756738282, 0.07855468590370071, 0.054228343010266876, 0.3857601485525035, 0.06341736362891646, 0.11814707126112188, -0.03535183789507501, -0.007319243956263586, -0.025803953550184017, -0.020873706877899183, -0.00025303790856540126, -0.009746171163049485, 0.0024018675297253203, -0.026357217332026162, -0.0482803746467499, -0.06562246208030766, -0.07121282753006325, -0.0719212649646858], \"topics\": [1, 2, 3, 4, 5, 6, 7, 8, 9, 10, 11, 12, 13, 14, 15, 16, 17, 18, 19, 20], \"cluster\": [1, 1, 1, 1, 1, 1, 1, 1, 1, 1, 1, 1, 1, 1, 1, 1, 1, 1, 1, 1], \"Freq\": [24.194822313217664, 21.307462528645384, 12.39792275065803, 6.883956476191794, 6.568506757360323, 6.53834084369773, 4.526610895872399, 3.1386990404175905, 2.094804359696139, 2.04168586068623, 1.7333811644740138, 1.5571266789753073, 1.3857511732970247, 1.3798482873420093, 1.2217164007688048, 1.1872906807816077, 0.7289076365517232, 0.4906219179963697, 0.33477866401904455, 0.2877655693508185]}, \"tinfo\": {\"Term\": [\"ax\", \"line\", \"write\", \"organization\", \"article\", \"nntp_poste\", \"host\", \"system\", \"drive\", \"get\", \"people\", \"use\", \"year\", \"key\", \"go\", \"window\", \"good\", \"know\", \"team\", \"mail\", \"game\", \"reply\", \"car\", \"m\", \"thank\", \"say\", \"problem\", \"space\", \"man\", \"run\", \"go\", \"m\", \"s\", \"ve\", \"back\", \"re\", \"bad\", \"hear\", \"d\", \"maybe\", \"money\", \"pay\", \"ill\", \"remember\", \"guess\", \"pretty\", \"friend\", \"couple\", \"wonder\", \"month\", \"season\", \"guy\", \"soon\", \"nice\", \"job\", \"trade\", \"sign\", \"wing\", \"anyway\", \"worth\", \"good\", \"really\", \"get\", \"hard\", \"big\", \"put\", \"want\", \"week\", \"much\", \"know\", \"start\", \"little\", \"well\", \"still\", \"probably\", \"happen\", \"time\", \"look\", \"think\", \"see\", \"come\", \"take\", \"let\", \"try\", \"tell\", \"make\", \"thing\", \"year\", \"sure\", \"work\", \"say\", \"day\", \"way\", \"need\", \"even\", \"believe\", \"reason\", \"evidence\", \"state\", \"fact\", \"claim\", \"law\", \"sense\", \"talk\", \"true\", \"person\", \"faith\", \"agree\", \"christian\", \"rule\", \"religion\", \"argument\", \"matter\", \"explain\", \"understand\", \"prove\", \"die\", \"discussion\", \"mind\", \"situation\", \"country\", \"clear\", \"act\", \"church\", \"certainly\", \"people\", \"mean\", \"world\", \"life\", \"word\", \"point\", \"exist\", \"many\", \"case\", \"cause\", \"say\", \"question\", \"issue\", \"right\", \"however\", \"make\", \"group\", \"even\", \"think\", \"way\", \"give\", \"program\", \"file\", \"send\", \"message\", \"list\", \"address\", \"info\", \"code\", \"copy\", \"image\", \"entry\", \"internet\", \"advance\", \"contain\", \"network\", \"error\", \"display\", \"section\", \"faq\", \"function\", \"input\", \"distribution\", \"request\", \"option\", \"sun\", \"originator\", \"format\", \"available\", \"date\", \"object\", \"information\", \"source\", \"include\", \"email\", \"do\", \"set\", \"page\", \"version\", \"reference\", \"service\", \"user\", \"number\", \"post\", \"also\", \"receive\", \"help\", \"new\", \"follow\", \"use\", \"book\", \"need\", \"find\", \"work\", \"read\", \"large\", \"small\", \"player\", \"local\", \"black\", \"field\", \"size\", \"goal\", \"white\", \"publish\", \"office\", \"character\", \"brain\", \"picture\", \"box\", \"dept\", \"society\", \"amount\", \"various\", \"normal\", \"unit\", \"reduce\", \"paper\", \"visit\", \"convince\", \"mount\", \"proof\", \"addition\", \"straight\", \"table\", \"power\", \"forget\", \"increase\", \"cover\", \"area\", \"compare\", \"low\", \"high\", \"department\", \"head\", \"lead\", \"number\", \"less\", \"difference\", \"lot\", \"control\", \"single\", \"system\", \"bit\", \"machine\", \"fast\", \"memory\", \"screen\", \"solution\", \"hardware\", \"encryption\", \"mode\", \"slow\", \"video\", \"device\", \"instal\", \"product\", \"scsi\", \"computer\", \"review\", \"miss\", \"ide\", \"choice\", \"digital\", \"headache\", \"port\", \"limit\", \"feature\", \"atheism\", \"transfer\", \"tool\", \"weight\", \"design\", \"datum\", \"software\", \"standard\", \"use\", \"speed\", \"chip\", \"problem\", \"run\", \"rate\", \"support\", \"need\", \"nntp_poste\", \"host\", \"appreciate\", \"firearm\", \"computer_science\", \"blind\", \"definitely\", \"consult\", \"cs_dept\", \"university\", \"chief\", \"finland\", \"tail\", \"ave\", \"powerbook\", \"amanda_walker\", \"digital_equipment\", \"organization\", \"atf\", \"reply\", \"convincing\", \"distribution_world\", \"com\", \"cubic\", \"mario\", \"article\", \"louisiana_tech\", \"line\", \"keyword\", \"thank\", \"write\", \"phone\", \"corporation\", \"joke\", \"boy\", \"fax\", \"student\", \"company\", \"net\", \"news\", \"center\", \"research\", \"lab\", \"technology\", \"lot\", \"cheap\", \"opinion\", \"sorry\", \"school\", \"ax\", \"graphic\", \"peace\", \"bomb\", \"convert\", \"homosexual\", \"violence\", \"capture\", \"birth\", \"gif\", \"enable\", \"teaching\", \"translate\", \"resurrection\", \"mystery\", \"intention\", \"roman\", \"met\", \"criticism\", \"row\", \"shareware\", \"rebel\", \"enemy\", \"reproduce\", \"hatred\", \"throat\", \"silver\", \"suspension\", \"desert\", \"joy\", \"gun\", \"accept\", \"speak\", \"belief\", \"truth\", \"god\", \"human\", \"atheist\", \"fire\", \"reality\", \"weapon\", \"police\", \"nature\", \"moral\", \"respect\", \"criminal\", \"universe\", \"mother\", \"animal\", \"arm\", \"false\", \"parent\", \"disagree\", \"blank\", \"benefit\", \"dangerous\", \"topic\", \"militia\", \"specifically\", \"morality\", \"crime\", \"man\", \"child\", \"death\", \"bear\", \"woman\", \"lie\", \"kill\", \"self\", \"safety\", \"carry\", \"young\", \"team\", \"game\", \"play\", \"win\", \"fan\", \"score\", \"notice\", \"average\", \"door\", \"sc\", \"sport\", \"father\", \"german\", \"pitch\", \"yesterday\", \"rock\", \"stat\", \"production\", \"san_jose\", \"offense\", \"park\", \"soul\", \"hr\", \"brave\", \"staff\", \"north\", \"hitler\", \"hitter\", \"era\", \"luxury\", \"division\", \"star\", \"final\", \"year\", \"hit\", \"run\", \"lose\", \"pick\", \"first\", \"point\", \"last\", \"total\", \"car\", \"bike\", \"wire\", \"engine\", \"ride\", \"internal\", \"direct\", \"route\", \"external\", \"mile\", \"cable\", \"pack\", \"rider\", \"screw\", \"dog\", \"cycle\", \"nhl\", \"wave\", \"oil\", \"cool\", \"co\", \"predict\", \"gas\", \"connector\", \"probe\", \"cambridge\", \"widget\", \"heat\", \"cylinder\", \"noise\", \"dealer\", \"concept\", \"road\", \"ground\", \"expensive\", \"vehicle\", \"light\", \"model\", \"buy\", \"mail\", \"price\", \"sale\", \"cpu\", \"pin\", \"disk\", \"tape\", \"board\", \"recommend\", \"upgrade\", \"gateway\", \"baseball\", \"processor\", \"motherboard\", \"version_pl\", \"usenet\", \"quick\", \"clock\", \"band\", \"super\", \"floppy\", \"ns\", \"trace\", \"pub\", \"amp\", \"up\", \"please_respond\", \"giant\", \"bounce\", \"forsale\", \"purchase\", \"bus\", \"offer\", \"interested\", \"manual\", \"sound\", \"old\", \"physical\", \"israeli\", \"soldier\", \"village\", \"armenian\", \"turkish\", \"withdraw\", \"occupy\", \"turk\", \"arab\", \"civilian\", \"girl\", \"decent\", \"inhabitant\", \"origin\", \"daughter\", \"invasion\", \"escape\", \"troop\", \"proceed\", \"human_being\", \"informed\", \"army\", \"genocide\", \"moslem\", \"slaughter\", \"holocaust\", \"massacre\", \"occupation\", \"soviet\", \"war\", \"attack\", \"terrorism\", \"kill\", \"jewish\", \"murder\", \"force\", \"military\", \"land\", \"government\", \"key\", \"security\", \"clipper\", \"master\", \"secure\", \"secret\", \"air\", \"communication\", \"proposal\", \"dual\", \"channel\", \"nuclear\", \"export\", \"crypto\", \"panel\", \"register\", \"compression\", \"advanced\", \"hence\", \"assure\", \"algorithm\", \"thermal\", \"volt\", \"instrument\", \"jet_propulsion\", \"garage\", \"okay\", \"flag\", \"access_digex\", \"online_communication\", \"usa\", \"public\", \"private\", \"block\", \"technology\", \"chip\", \"government\", \"industry\", \"protect\", \"phone\", \"provide\", \"space\", \"community\", \"launch\", \"mission\", \"orbit\", \"moon\", \"satellite\", \"announcement\", \"plane\", \"flight\", \"planet\", \"rocket\", \"map\", \"zone\", \"percent\", \"shuttle\", \"mar\", \"sky\", \"astronomy\", \"lunar\", \"spacecraft\", \"camp\", \"french\", \"solar\", \"radius\", \"ozone\", \"pat\", \"vol\", \"distant\", \"planetary\", \"earth\", \"international\", \"fuel\", \"project\", \"year\", \"datum\", \"research\", \"science\", \"patient\", \"study\", \"health\", \"disease\", \"scientific\", \"treatment\", \"insist\", \"waste\", \"medical\", \"mass\", \"rise\", \"element\", \"electrical\", \"consequence\", \"medicine\", \"aged\", \"radiation\", \"experiment\", \"physician\", \"probability\", \"environmental\", \"automatically\", \"hire\", \"pt\", \"qualified\", \"recover\", \"conservative\", \"bias\", \"severe\", \"objective\", \"risk\", \"analysis\", \"conduct\", \"effect\", \"research\", \"report\", \"factor\", \"result\", \"drive\", \"card\", \"driver\", \"test\", \"replace\", \"family\", \"period\", \"bill\", \"printer\", \"warranty\", \"procedure\", \"saturn\", \"auto\", \"specify\", \"ring\", \"serial\", \"acquire\", \"icon\", \"gear\", \"customer\", \"ftp_site\", \"finger\", \"stereo\", \"replacement\", \"backup\", \"positively\", \"km\", \"ratio\", \"testing\", \"timing\", \"minor\", \"automatic\", \"window\", \"server\", \"package\", \"motif\", \"mit\", \"crash\", \"programmer\", \"honor\", \"extension\", \"correction\", \"stable\", \"au\", \"fi\", \"quit\", \"diagnostic\", \"opinions_expressed\", \"sharp\", \"tar\", \"macintosh\", \"reboot\", \"oracle\", \"oracle_corporation\", \"turning\", \"verification\", \"automate\", \"ie\", \"parity\", \"eric_bosco\", \"button\", \"focus\", \"application\", \"event\", \"default\", \"com\", \"user\", \"monitor\", \"controller\", \"trial\", \"cop\", \"step\", \"circuit\", \"dream\", \"ethnic\", \"insert\", \"factory\", \"receiver\", \"constitution\", \"tip\", \"voltage\", \"sensor\", \"revolver\", \"political_atheist\", \"handy\", \"colt\", \"amplifier\", \"radar\", \"partly\", \"refresh\", \"reload\", \"black_hole\", \"mathew\", \"cosmic\", \"signal\", \"chamber\", \"dram\", \"switch\", \"pull\", \"trust\", \"stupid\", \"session\", \"registration\", \"implementation\", \"speaker\", \"beautiful\", \"fish\", \"custom\", \"summarize\", \"organisation\", \"login\", \"kinda\", \"mozumder\", \"delaware\", \"comprise\", \"atom\", \"affiliate\", \"explode\", \"extended\", \"abstract\", \"bogus\", \"recognition\", \"enclose\", \"loaded\", \"australian\", \"contemporary\", \"interactive\", \"inability\", \"robotic\", \"conference\", \"color\", \"distribution_usa\", \"past\", \"stream\", \"unique\", \"ins_cwru\", \"turbo\", \"jim_frost\", \"porsche\", \"generic\", \"television\", \"observer\", \"host_slc\", \"ms_do\", \"brick\", \"western_digital\", \"pov\", \"soviet_union\", \"infinity\", \"viola\", \"signing\", \"floppy_burn\", \"rayshade\", \"bearing\", \"tga\", \"volvos\", \"usa\", \"vram\", \"vram_simms\", \"protocol\", \"encrypt\"], \"Freq\": [41584.0, 16918.0, 13232.0, 10186.0, 9135.0, 6437.0, 5901.0, 5003.0, 2964.0, 10605.0, 7855.0, 6311.0, 4874.0, 2571.0, 7735.0, 1974.0, 6897.0, 8906.0, 2269.0, 2074.0, 2146.0, 3275.0, 2108.0, 5681.0, 3106.0, 9023.0, 4188.0, 1673.0, 2182.0, 3259.0, 7734.661753523795, 5680.4908580212295, 4032.64043537033, 2957.4553356185284, 2825.2046351211848, 2284.4715641926673, 2228.437956543001, 2110.153120281607, 2048.795660002355, 1496.5688281477712, 1413.3118415998265, 1332.4953945983807, 1296.371474850393, 1326.6594749609642, 993.3669803895667, 933.2833014731154, 929.6246942763943, 919.1935311148586, 854.0148001513063, 801.890841723416, 791.0871527498471, 777.4739218145893, 766.5291501591037, 736.9247624401513, 666.9842340475532, 616.2568620432577, 606.3211765627515, 580.3574854399023, 568.8065794212907, 557.8486684317453, 6816.227294216274, 3113.9640361462643, 10064.826196056894, 1240.7570046168269, 1511.0796444287516, 1943.9712273381585, 4563.853288029397, 1253.395135475819, 3563.928238457826, 7872.306774587581, 2084.5855910912783, 1969.7431135453737, 5055.948214473243, 2550.2525454741253, 1897.7397097053727, 1795.5660459326334, 5478.751137755882, 3594.478438016788, 5862.975801773067, 4818.1427105078155, 3871.7148632836456, 3810.353732799349, 2014.7095849033653, 3321.2037788833404, 2733.3120965277553, 5191.3470700496955, 3344.761210174808, 3333.281983260719, 2339.299876505667, 3119.025689327459, 3805.329662517812, 2326.429348263247, 2653.659544950073, 2503.625086121121, 2354.0543944016126, 3598.341238079114, 3556.6335707255294, 3143.861167143667, 2901.276018838973, 2310.1541236848884, 2189.82048171591, 1888.8243784078954, 1847.3835623454625, 1756.396839405528, 1713.950676618291, 1677.298574205552, 1500.1143591290424, 1359.2838488005534, 1191.0604845663088, 1171.837753548998, 1132.9733970457085, 1097.0811226553042, 1085.2931220147764, 1065.8069012051367, 1062.0329076904252, 1025.6616843620018, 1015.281505286082, 979.9791092948444, 943.8441605471284, 943.2218953996897, 927.0095158664764, 926.5012831021752, 833.6923045793252, 827.1633688468296, 795.3114867528317, 7710.63651145545, 3051.4600289298955, 1613.010555664497, 1605.9433922551289, 1328.8984852121437, 3341.713816308058, 1695.6636058694226, 3014.4858690722635, 2352.834557082381, 1370.07400144442, 5216.700714100941, 2597.3626517065654, 1677.6614867899818, 2552.086624064324, 1604.6753314684931, 2923.4800114467234, 1655.4106917755469, 1781.5063305917922, 1928.7929872744248, 1705.3607542422635, 1650.423391118484, 2909.928182951104, 2771.042513451699, 2339.062559625007, 1992.152756466803, 1814.5155803033538, 1515.1759063548323, 1364.5208896349718, 1330.5881576948232, 1323.4540300226938, 1285.3518874059937, 1197.1010415005092, 1108.4993343905744, 1022.4613815361407, 932.0853578807178, 907.6400964640728, 888.5383217998481, 886.1995730894823, 848.2427700626187, 789.8736535544797, 786.1349204927386, 759.2965208608356, 757.7887354575785, 671.239536302664, 657.1198553320735, 646.9414951641297, 645.7565110962703, 644.0040857622946, 1701.8325625716132, 610.4918004927445, 585.415643387609, 2428.6627617535232, 1954.3849249977393, 2514.9194010404904, 1416.9472568789733, 2394.5645292452377, 2015.9150271297601, 772.8968309576004, 1123.5856139066148, 1013.7921608670117, 1094.4615762012118, 965.2511451426143, 1840.5268532322275, 1675.3315584161162, 2228.95593437397, 1081.72743589605, 1518.7665164080909, 1728.5262996614583, 1378.7440084606478, 1875.9041042220865, 1245.9717794931537, 1626.3233797243872, 1494.590644779854, 1375.5218628540863, 1250.102673673848, 1541.67528827564, 1300.3395789484862, 1221.242460059515, 932.442581454299, 805.4815529857032, 748.5982992226076, 716.2059683491688, 707.4702434601189, 688.9045829255161, 675.2895201486149, 662.8457758185705, 655.1445303765948, 628.7162245541191, 627.0541486565769, 626.3529114379108, 614.6964508282272, 613.775836800386, 592.1128363659428, 578.064617170316, 557.0745755653895, 552.6834053791434, 540.8670486488346, 534.3430947846588, 493.27965743873403, 477.9660951965829, 470.7820059378515, 466.64371221823654, 429.61606465252925, 397.07277646980646, 379.6136071147642, 1929.344184593722, 574.9814373501233, 904.9287530657825, 870.7185854186753, 1156.444515406065, 809.6677570633007, 1145.9001431755667, 1674.3477994897394, 650.1157389047319, 754.9446046539157, 848.6479918951361, 1283.4000302153288, 843.0394307904947, 692.4593476991719, 849.0675312461179, 718.6436740962112, 647.0875285972725, 5002.434882422385, 2333.005671572301, 1448.4369022711644, 1081.6834475026255, 1049.132273210617, 922.0532489096878, 910.6565635371323, 883.0919422785703, 870.8585184564075, 831.2218107694147, 811.4736036188452, 809.145211686576, 804.4007444558786, 711.3971501994008, 706.8127449680186, 625.2554568981269, 2117.5800760158854, 601.7902322878628, 560.2046023636901, 539.5331690796205, 517.4697225017055, 505.85004238657825, 498.21198421656754, 490.9390076983813, 479.75638930747976, 468.98161813744287, 435.4766879580805, 431.4990516205167, 430.85633254657324, 423.7291894087392, 914.9255477867963, 1256.8312105411255, 1400.6603085672043, 1013.473201861188, 3931.0866732888885, 840.6346201265535, 1252.7783259329674, 1982.4078770185065, 1373.1213546212814, 708.1743879323125, 778.7039383207994, 854.520556552204, 6435.76755257449, 5900.611936722764, 688.2502126992638, 496.2541805147217, 348.90654034771165, 273.0270383060894, 199.40273017178498, 178.24640916669864, 143.35091898881245, 2076.6019261691017, 130.11923737705953, 97.32317484803856, 74.32709613439559, 71.29656216200223, 50.107853081973076, 46.73577889990491, 46.66691146815926, 9902.978270589967, 40.06075832181439, 3174.9775463091723, 32.62853321532965, 1209.0876710876187, 1384.4810533642242, 21.171900110496367, 20.236191714766903, 8413.046286957191, 14.12174122018356, 15341.19620942274, 951.4398654350803, 2713.5436358956667, 11245.335446250347, 836.6394287591521, 481.62982655781656, 161.383266102952, 291.5413731372465, 544.4379954818216, 258.95044996025194, 674.2694347358937, 701.1056253172621, 608.6888743679095, 602.5128141276437, 602.4458857155432, 342.96042502536784, 619.1960399721398, 740.059072004749, 417.53990117966686, 464.65619408820163, 309.80059050900115, 309.35063876872994, 41582.85376053019, 1529.6177420298447, 776.9814656509767, 745.289135983351, 724.8641647869194, 510.3266544759191, 414.2514556927303, 368.83839022659055, 343.86169449467036, 279.52779789206147, 271.76514646122666, 267.1111372155633, 212.2864089632943, 202.55160449746418, 184.16480172295195, 162.77872779332094, 157.67541016113935, 156.5624596781544, 149.53859829411886, 148.75972110056878, 143.34688510131974, 142.8689705049071, 142.40694519550738, 139.1221612685662, 137.61888639882147, 125.94517692207405, 122.43851977043049, 116.96753749528459, 116.1635148527106, 108.59279145182308, 1580.5805527674408, 1050.347703326066, 1012.2570129656931, 949.3537778541681, 939.5557357777212, 934.7525484247686, 815.4876794639571, 812.9378025852711, 724.0728564727442, 605.2472760223575, 524.3630743082333, 519.0828896418279, 491.5686424676777, 466.54268112726777, 454.08719685925536, 399.36555313438174, 386.6897580414064, 374.58332778445214, 359.4311308441452, 353.59616969682946, 345.9607465188821, 338.0479160556295, 330.0231780536942, 300.34181739644106, 285.97642034476604, 281.08734071824995, 277.5053472379006, 276.3711692850117, 246.7325833608902, 223.0940774337065, 572.1657621126895, 2121.6087849908004, 1481.4702391413362, 1110.9030893278546, 445.7023207435537, 624.8952764363897, 491.53653285055395, 881.5868689460459, 454.8169193323951, 432.9053623147887, 435.88557662439297, 366.72359436303884, 2268.3438653695016, 2144.841287875828, 1493.055832154743, 1352.4773211999318, 679.2400766235335, 551.3611861485005, 518.5467448779787, 397.27495574759416, 331.293985290246, 301.06313210160357, 298.82812376762075, 297.7103908070375, 250.43215251321502, 228.6636879053094, 226.4376787859382, 211.49096204407587, 204.82803506302267, 204.6818740901134, 200.02086561599637, 198.80607332946002, 196.71844620087612, 192.68480246629133, 164.78498736642172, 155.9127913304657, 137.41854097211063, 129.5910418979261, 127.74077541010287, 125.71508779112736, 125.33827745615089, 111.9251514495193, 461.6725220204698, 292.3405543639443, 310.1795907183403, 1142.081377997073, 343.1445527507711, 632.1794718785545, 392.3511142794935, 269.04801937637876, 302.0324542856247, 298.5116768086201, 256.90403684509647, 206.02090129700937, 2107.1962298148424, 836.1137071057851, 692.25368033603, 572.2437891155188, 527.8847312353353, 505.03820840685665, 461.89534896669386, 429.039656187271, 418.1731562762242, 379.7425392822216, 351.2257755419633, 336.18280866181703, 288.45934639395614, 278.186079568706, 276.55030926739465, 274.6290348585097, 264.8169402934581, 256.54946185009766, 236.8078798134871, 227.2277464959495, 215.3831045074236, 211.93921585548375, 211.72135265858236, 209.32988720140924, 203.33656802783082, 199.82802408050665, 193.97552436326725, 192.9912128400895, 184.67079857048319, 184.29607288073714, 370.4559130078427, 359.2145882994884, 460.21587223079433, 437.03605067324514, 273.84435074093125, 279.003989496252, 471.2663653296258, 412.84659561057424, 220.6661073998275, 2072.8462139911244, 1232.4717147847189, 1115.463668256108, 897.0804536802975, 821.6118812959838, 753.3953247711041, 653.8041317581523, 499.88357019916043, 371.6369100781128, 365.1021612302553, 337.70038632178824, 332.8289531270297, 324.6956988689811, 319.71629067362363, 314.2758694034316, 262.37287771187874, 224.12261279583913, 222.0894938093039, 211.26782400936116, 185.15318767709633, 177.72171833429817, 169.92478947992686, 156.0958171282363, 155.00095314641825, 150.88359901292398, 143.54372856747784, 138.2315499606701, 127.2799441430575, 118.43256767424872, 117.3440774358909, 356.68688460068336, 476.04257226836324, 685.0053098680949, 467.6366353816835, 242.5452346153432, 364.57778935904366, 234.57856014099661, 1059.4755514832427, 661.7933822509855, 614.3878345649217, 532.4035455623759, 480.19454037307855, 372.7255735170841, 330.6209153176493, 328.4226453931567, 322.087095869344, 287.0427254120458, 275.9258840025547, 220.1487434894229, 201.41244742468734, 182.42446861466829, 176.6014304969355, 175.87125008095094, 169.9231547961421, 168.9189748451616, 159.73598436063227, 158.7863019723365, 154.02061861189304, 150.01199596664327, 145.80249386920218, 144.13652000686815, 133.04266621353725, 128.32805069746115, 118.86522165336254, 108.21257324919382, 94.6236135523715, 93.15656335244451, 581.9807190802188, 498.0156968874475, 172.37424125709745, 454.0226338928209, 278.87357100004056, 250.09727059486744, 304.7099130842667, 207.0491658586229, 185.21274457234549, 229.98424969415524, 2570.3050097833557, 678.6342108022318, 566.7812926815213, 558.428123407644, 432.1390326548284, 400.91448916733594, 394.09766830688375, 349.3246769628711, 230.81755635292737, 220.50603810643472, 217.71310541852944, 199.53359914201027, 191.69162668802056, 177.2974792172056, 161.9816875028896, 161.6435018312026, 142.27657874254288, 141.60801039030082, 111.92077387333381, 110.92897838520614, 108.60696630218654, 107.58775103595414, 101.5840304399923, 92.90425385519156, 84.38798693154509, 82.16613565710666, 79.03891038468475, 76.0817449136022, 73.67107470720447, 67.2455006989758, 193.00930636504862, 669.2814514574903, 328.98991390519444, 307.5977782819788, 356.91493568569166, 362.5781246675896, 379.17612944622414, 153.33903398473475, 173.67073638640701, 188.69396638364998, 120.82449966697871, 1672.1926505519912, 511.726765074271, 443.2075596777487, 387.3058968553038, 383.1394674295456, 376.2746229779318, 325.6033433493363, 315.65621789906766, 286.27590269357034, 259.5779439086279, 229.61826302554897, 227.3970514760864, 223.767974129683, 205.80276528404352, 203.67264738717338, 194.36820105206948, 192.68176282782582, 184.1007072633086, 180.36739131628246, 152.3547702767391, 149.63021606123337, 147.54443933937512, 145.32491905074195, 135.82857321955186, 123.51348166626924, 119.78316310229714, 117.5343890248627, 112.1184443767482, 108.05568421628404, 107.36042530899795, 504.67986727872625, 183.9084226286177, 138.56060414753597, 181.08676324925477, 189.50125473981305, 157.17816243634977, 149.38019412614935, 1026.0432187934753, 834.1061821209277, 763.809788486576, 399.8042041713849, 392.5401634346451, 380.3571631767468, 357.7407665357719, 304.6656831583457, 284.9715199568612, 258.1108424091238, 206.89480951864678, 200.09669525613035, 165.65742545134756, 157.1261495102772, 153.57061723076743, 144.358850825944, 142.49977068670213, 142.46111892324828, 140.36581379470454, 129.72714941584036, 129.25020711490194, 122.53620158045364, 117.53520899171163, 105.26615778057737, 104.60586794118406, 99.18727470214574, 98.53250760225629, 97.38595722896301, 96.54364679121036, 95.0876228527258, 209.4224747261475, 310.0613625882479, 204.08750836542194, 116.42552383124074, 279.2570487288062, 255.8879286392117, 272.4994394980335, 129.97565045429445, 143.2063106895378, 2963.2775893859466, 1465.2012619363022, 1172.623575949371, 933.6592722458778, 486.0624220193006, 434.52257748206677, 381.5699343584306, 347.4057517307902, 339.5165912885975, 271.6814534509614, 247.66465553425184, 229.91292068623991, 204.26634849715256, 201.93668751607856, 183.19895890070694, 176.2068493405876, 167.9456358959872, 165.11992345620004, 145.36966085077353, 135.43831528158617, 131.03732103534583, 127.04572629380735, 114.83664751911247, 111.10827934023321, 101.90999575811104, 93.45036461169991, 84.01107217777412, 73.4454844463614, 67.83814918755104, 64.27230024965455, 220.5024810188435, 95.76808105172381, 1973.6991894422022, 646.3352405564585, 589.6270057441951, 420.9440735723895, 309.0836975583897, 265.11990444516687, 125.14528770782871, 119.71755365411104, 115.99195510312914, 113.36889765019006, 111.58502822352885, 109.47570917250994, 98.56696363825608, 86.17563195103158, 76.71362994423475, 64.33446988897144, 61.59817910700968, 59.64802891173909, 57.32608224206672, 44.88927942541161, 42.33363919121689, 32.810000606291, 27.242578057643705, 20.618169574180413, 18.621632723383307, 9.075387388706094, 6.608881581045498, 6.300706430355107, 73.4788241459671, 49.02923093434566, 210.78404100315345, 131.94299378188774, 53.44084601521007, 66.07506191056716, 34.27585076531501, 488.4834213181117, 394.7403661610672, 296.53871114485463, 260.11873874546546, 247.19555807232393, 198.30060607691226, 167.71265386219596, 163.7276546098236, 147.19690717030463, 138.94291739352255, 125.36236164499758, 110.51864072580827, 91.17105805701476, 86.83858657024895, 76.93015026057041, 65.53504363617522, 53.395610522567225, 45.45332465515939, 41.96843892698755, 34.658372717034574, 34.08090851543303, 32.26267788452748, 25.8554440894902, 24.3735607466113, 24.170608620947004, 21.371429815783017, 20.733662570007464, 259.0721304649546, 16.709493801493615, 15.848081493956535, 132.2799408188414, 18.378177705543138, 248.80830524677248, 214.6887864903647, 186.87628122369017, 138.52096730655157, 114.35896802607205, 92.77947807872928, 92.18460006715203, 80.3965948297351, 77.21118769868242, 65.14305871858497, 46.239345700618486, 43.93884520684976, 40.82633931493646, 39.4906954966273, 39.012860050719134, 38.23374227689652, 36.41050438715463, 33.68542242889987, 33.34361864762073, 30.924915684940935, 30.04819946774756, 28.74162839059317, 27.80357137095075, 26.707978771233204, 26.61849152513963, 24.813545979870817, 20.811416646246435, 20.60718429607168, 19.751681510675347, 13.593961381394843, 122.22639467514128, 540.3919988903556, 195.63750844967706, 162.14964671096308, 94.28097262830447, 59.82713180154176, 57.737644846205534, 54.142947688607535, 51.499726592607274, 51.05619869050354, 45.1474359288725, 40.655615010106224, 35.58566357629914, 30.207855460619893, 29.88180451729582, 27.710397987076913, 26.963663241704314, 20.994810526752172, 16.73281001991484, 12.066182757891907, 10.319441115720599, 9.556169148638693, 6.381488786575348, 6.145783613642736, 5.515620915725667, 5.26079823606834, 4.677469173531593, 73.72890251690797, 0.04002908036054549, 0.04002818685337396, 0.04002773668945548, 0.040028159570712235], \"Total\": [41584.0, 16918.0, 13232.0, 10186.0, 9135.0, 6437.0, 5901.0, 5003.0, 2964.0, 10605.0, 7855.0, 6311.0, 4874.0, 2571.0, 7735.0, 1974.0, 6897.0, 8906.0, 2269.0, 2074.0, 2146.0, 3275.0, 2108.0, 5681.0, 3106.0, 9023.0, 4188.0, 1673.0, 2182.0, 3259.0, 7735.917616591078, 5681.746721101924, 4033.8962984376144, 2958.7111986858126, 2826.460498201736, 2285.7274272599516, 2229.693819610285, 2111.408983348891, 2050.051523069639, 1497.8246912150548, 1414.5677046748178, 1333.7512576656643, 1297.6273379176766, 1328.1161980228776, 994.6228434568508, 934.5391645403995, 930.8805573436783, 920.4493941908612, 855.2706632185904, 803.1467047907, 792.3430158506201, 778.7297848818733, 767.7850132353362, 738.1806255074354, 668.2400971148372, 617.5127251156774, 607.5770396377608, 581.613348517481, 570.0624424885748, 559.1045314990293, 6897.453702107246, 3132.9536483285237, 10605.373776871815, 1257.2491474216765, 1540.8089983503683, 1995.4452954929188, 4811.531618080059, 1277.8901485456124, 3808.2696488727797, 8906.748996591798, 2207.1182030360956, 2078.272228478237, 5681.405168179464, 2747.3037017087727, 2005.7454762338564, 1906.3396923798455, 6620.089511939297, 4189.747991797062, 7792.955654988833, 6257.739950214444, 4855.400928329487, 4793.378810817083, 2214.7418249522666, 4353.339446015327, 3409.1504832903215, 8376.42362597184, 4694.206079490003, 4874.8154237675035, 2746.6610740049464, 4925.337501175704, 9023.217242560097, 2828.304256008753, 4458.284657543263, 4985.571944833318, 4136.747590934746, 3599.601332523185, 3557.8936651696004, 3145.121261600621, 2902.536113283044, 2311.4142181289594, 2191.080576159981, 1890.0844728555855, 1848.643656798796, 1757.6569338495985, 1715.2107710623616, 1678.5586686496226, 1501.3744535777626, 1360.5439432492374, 1192.3205790103793, 1173.0978479930686, 1134.233491489779, 1098.3412170993747, 1086.553216458847, 1067.0669956492072, 1063.2930021344957, 1026.9217788106857, 1016.5415997347662, 981.2392037425349, 945.1042549911991, 944.4819898545803, 928.2696103105471, 927.7613775508594, 834.9523990280094, 828.4234632909004, 796.5715811969025, 7855.04908819675, 3088.4158444477052, 1638.6299214367962, 1654.1159750701584, 1384.6774678022641, 3890.3443887362964, 1849.078567236086, 4043.7976620713443, 3031.678153728463, 1509.192348862512, 9023.217242560097, 3585.0979017342574, 1980.3017562469554, 3946.4056634207295, 2031.111156297141, 8376.42362597184, 2690.8108577019448, 4136.747590934746, 7792.955654988833, 4458.284657543263, 4225.001138047255, 2911.177675693901, 2772.292006194496, 2340.312052367804, 1993.4022797491339, 1815.7650730461498, 1516.4253990976283, 1365.7703823777679, 1331.8376504376192, 1324.7035227654899, 1286.6013801487898, 1198.3505342433052, 1109.748827138506, 1023.7108742835505, 933.3348506276197, 908.8895892068692, 889.7878145426445, 887.4490658322787, 849.4922628100647, 791.1231462972761, 787.3844132542768, 760.5460155986523, 759.0382282003749, 672.4890290495659, 658.3698432369772, 648.1909879110143, 647.0060038583908, 645.253578505091, 1705.1388840228046, 611.7412932355409, 586.6651361304054, 2492.1806340422313, 2014.3649647238685, 2612.546764472825, 1470.621484414907, 2623.0328000775185, 2233.1477662030093, 787.3992392344237, 1215.9254967572535, 1084.9373900006156, 1192.7601786743458, 1025.9541263559481, 3290.3455604542537, 3160.765234718234, 6143.570420974188, 1364.2232995890229, 3082.714473775145, 4201.244336194176, 2471.5550856803, 6311.238673341834, 2051.944287494245, 4985.571944833318, 4174.404466359521, 4925.337501175704, 2730.9438423957445, 1542.9296281088111, 1301.5938744590462, 1222.4967555395494, 933.6968769281272, 806.7358484595313, 749.8525947051373, 717.4602638229969, 708.7245389401535, 690.1588783993443, 676.5438156311446, 664.1000712923986, 656.398825850423, 629.9705200491594, 628.3084441304051, 627.607206911739, 615.9507463204169, 615.0301322742141, 593.3671318433907, 579.3189126528631, 558.3288710392177, 553.9377008570772, 542.1213441226628, 535.5973902584869, 494.5339529259735, 479.2203906831606, 472.03630146380164, 467.8980077049474, 430.8703601263574, 398.3270719436346, 380.86790258859236, 1954.4868308301907, 577.634150049983, 916.8203619081461, 895.792903833799, 1221.329097858231, 843.873874622832, 1245.122218151033, 2267.182343644517, 694.6965891304615, 856.8947880811111, 1284.976999838245, 3290.3455604542537, 1615.6316741769465, 982.3100875132387, 1990.546500061987, 1161.2318599427315, 1074.2609862347338, 5003.690625930263, 2334.261415080179, 1449.6927337434613, 1082.9391910105037, 1050.3880167236307, 923.3089924175661, 911.9123070891482, 884.3476857864486, 872.1142619683914, 832.4775542808106, 812.7293471267235, 810.4009551944542, 805.6564879637568, 712.6528937124148, 708.0684884805103, 626.5112004060052, 2121.9051590427453, 603.0459758049032, 561.4603458822551, 540.7889125910165, 518.7254660249201, 507.10578590368044, 499.4677278369456, 492.1947512062597, 481.01213281535814, 470.23736164532124, 436.73243148794415, 432.75479513201475, 432.1120760544516, 424.9849329659238, 978.1707000603067, 1415.2049017132365, 1629.5616240826064, 1132.8194358017174, 6311.238673341834, 969.3734774917299, 1616.549662480686, 4188.603008187904, 3259.3747696428527, 989.1524144522734, 1966.3113450028923, 4985.571944833318, 6437.02870267038, 5901.873086818654, 689.5114478577298, 497.51533062829424, 350.16769044360205, 274.2881884857885, 200.66388026767538, 179.50755933756412, 144.61206909090927, 2095.2565936915453, 131.38038750570635, 98.5843249501354, 75.58824625000234, 72.55771226198081, 51.369003182999066, 47.99692899579529, 47.928061573616354, 10186.341318775596, 41.32190841770477, 3275.182354240943, 33.88968348365263, 1257.9601552518418, 1451.7551635400616, 22.433050237554326, 21.49734183375679, 9135.216097380986, 15.382891322122992, 16918.580603290542, 1060.1549406785666, 3106.5742247053345, 13232.259678281884, 1026.5320136058078, 582.2563342467686, 187.94004075194383, 355.9011710959322, 741.718822685578, 350.27166938956697, 1101.1774955491878, 1166.4768371882922, 1093.9829606602261, 1081.929894798264, 1130.079184686857, 526.2162979208581, 1363.518198113583, 1990.546500061987, 811.0392649823082, 1540.5835140826825, 686.4067760290338, 703.9518159694348, 41584.05056971683, 1530.8145512645287, 778.1782749361387, 746.4859453677806, 726.0609741461694, 511.52346370847744, 415.4482650204969, 370.0351996248134, 345.0585040633825, 280.72460712674064, 272.96195589193417, 268.307946498659, 213.48321834310357, 203.74841370679505, 185.3616110043601, 163.97553716728999, 158.87221949329881, 157.75926896871792, 150.73540776797356, 149.95653042975195, 144.54369435135698, 144.06577998863932, 143.6037544876812, 140.31897064906306, 138.8156957262174, 127.14198620178225, 123.63532913901778, 118.16434675468933, 117.36032431170923, 109.78960072659896, 1581.8423252609396, 1051.6094758195648, 1013.5187854591921, 950.6155503476672, 940.8175082712203, 936.0143209182677, 816.7494519574561, 814.1995750787702, 725.3346289662433, 606.50904852047, 525.6248468017324, 520.344662135327, 492.83041496117676, 467.8044536207668, 455.3489693527544, 400.6273256319865, 387.95153053490543, 375.8451002779512, 360.6929033376442, 354.8579421949419, 347.22251901238116, 339.30968854912857, 331.2849506046092, 301.6035899819312, 287.23819285553964, 282.349113211749, 278.76711974572237, 277.6329417831242, 247.99435585438926, 224.35584992720555, 577.4540319104217, 2182.2617628861276, 1536.9902248324665, 1241.1118193302011, 466.167854772084, 705.6519089844893, 567.2690390671256, 1336.8088114380364, 573.5852297442336, 567.8687278302756, 800.4112243312677, 765.9516596811982, 2269.605303945488, 2146.1027264518143, 1494.3172707353424, 1353.7387597759177, 680.5015152046553, 552.6226247244866, 519.8081834664533, 398.536394351305, 332.5554238749512, 302.3245706775897, 300.0895623496559, 298.9718294054855, 251.69359109381452, 229.9251264812955, 227.69911736192432, 212.75240062415017, 206.0894736390088, 205.9433126761004, 201.2823041919825, 200.06751190544614, 197.97988480401642, 193.94624104692707, 166.04642595725159, 157.1742299064518, 138.67997955171643, 130.85248052580846, 129.002213995352, 126.9765263671135, 126.59971603213702, 113.18659009265511, 629.8852962636481, 400.9857701630891, 503.5803771450445, 4874.8154237675035, 687.4015458708425, 3259.3747696428527, 1320.6472856302385, 716.9092488014991, 3842.786117550871, 3890.3443887362964, 2285.518929404153, 515.4223823061458, 2108.4570160772705, 837.3744933682133, 693.5144665984582, 573.5045753779469, 529.1455174977634, 506.298994683899, 463.1561352559413, 430.3004425334366, 419.4339425690731, 381.00332554926314, 352.4865618043914, 337.4435949438028, 289.72013265638424, 279.44686583852155, 277.81109552982275, 275.88982114574713, 266.0777265727793, 257.81024811252576, 238.06866607591522, 228.48853277041468, 216.64389079713956, 213.2000021632744, 212.9821389210105, 210.5906734900781, 204.59735429843528, 201.0888104645436, 195.23631063001454, 194.25199911071147, 185.9315848661874, 185.55685914316527, 378.30801592295427, 401.96055617547177, 547.6305197985683, 535.1983861971235, 329.9965812567149, 351.1079668971797, 893.1900438204607, 870.2637408768737, 1751.6284966558258, 2074.1135987106254, 1233.7390995042194, 1116.7310529756085, 898.3478383997982, 822.8792660190022, 754.6627094906048, 655.071516477653, 501.15095491866117, 372.9042948012332, 366.36954594975606, 338.96777105329153, 334.09633785273684, 325.9630835884818, 320.9836753965347, 315.54325412293235, 263.6402624313795, 225.38999751533984, 223.35687853366986, 212.53520872886187, 186.42057240556795, 178.9891030621818, 171.19217419942757, 157.36320185525759, 156.26833786591897, 152.1509837324247, 144.8111133093618, 139.49893468987895, 128.54732887694098, 119.69995239374944, 118.61146215539162, 374.4658632054424, 507.6773824981244, 778.2648152289067, 960.3177602889674, 392.2308383954249, 1029.4545696634293, 2107.5673578952965, 1060.7421792166988, 663.0600099266686, 615.6544622406049, 533.6701732380591, 481.4611680487617, 373.99220119276725, 331.88754300207023, 329.68927306883984, 323.35372354502715, 288.30935308772894, 277.19251168234354, 221.41537116510602, 202.67907515087856, 183.6910962903514, 177.86805821223714, 177.13787776072223, 171.1897824718252, 170.18560252084472, 161.002612040965, 160.05292969384297, 155.28724631796536, 151.2786238434175, 147.0691215448853, 145.40314768255126, 134.30929389783745, 129.59467837314426, 120.13184932904568, 109.47920092487696, 95.89024122805463, 94.42319103630399, 685.8108801941192, 877.5414711921076, 240.93290632486583, 1336.8088114380364, 564.2194081144784, 565.4740992287115, 1004.6112996175654, 540.443134808175, 483.47270598212884, 2058.989894715151, 2571.5715697204837, 679.9007707393597, 568.0478526186492, 559.6946833846048, 433.4055925919564, 402.18104910446397, 395.3642282549261, 350.5912368999991, 232.08411629005536, 221.77259807174684, 218.97966535565743, 200.80015909149574, 192.95818662514856, 178.56403915433359, 163.24824744606664, 162.9100617683306, 143.54313868453613, 142.874570331517, 113.18733383391739, 112.19553834117632, 109.87352624340272, 108.8543110563885, 102.85059038607658, 94.17081379231958, 85.65454687684945, 83.43269561372021, 80.30547034497259, 77.34830487365788, 74.93763464433249, 68.51206063610383, 267.9647449125636, 1610.1362341072806, 615.1521073076276, 606.8165384445546, 1363.518198113583, 1616.549662480686, 2058.989894715151, 319.87461228371, 712.055786121615, 1026.5320136058078, 1996.2669911364915, 1673.4615273315205, 512.9956418849812, 444.47643645727817, 388.57477363483326, 384.4083442090751, 377.5434997574613, 326.87222012886576, 316.9250947003928, 287.5447794730998, 260.8468206881574, 230.8871398050784, 228.66592825561582, 225.03685091763725, 207.0716421873611, 204.94152418989705, 195.6370778315989, 193.95063960735524, 185.36958404283803, 181.6362680958119, 153.6236470562685, 150.89909284076276, 148.81331618112608, 146.5937958485918, 137.09744999908128, 124.78235845550682, 121.05203988182657, 118.80326580439214, 113.38732117373132, 109.32456103238165, 108.62930208852738, 934.1091301533118, 315.60409061246844, 203.7922048628195, 462.7608748562779, 4874.8154237675035, 1415.2049017132365, 1130.079184686857, 1027.3138063502963, 835.3767696777487, 765.0803760433971, 401.0747917282061, 393.81075099146625, 381.62775073356795, 359.0113540925931, 305.93627072891013, 286.24210751368236, 259.38142996594496, 208.16539708469165, 201.36728281756484, 166.92801301281827, 158.39673707605454, 154.84120479223813, 145.62943838276507, 143.77035834343434, 143.73375995187496, 141.63640135152562, 130.99773697266144, 130.5207947137939, 123.80678915055, 118.80579656923265, 106.53674535429157, 105.8764555042116, 100.45786253471117, 99.80309520373422, 98.65654478578413, 97.81423434803149, 96.35821040954693, 315.6181617714601, 601.575857540859, 330.68792382941774, 132.72380931074872, 760.8009247198302, 1130.079184686857, 1451.412132465618, 345.0299098122043, 1251.905228625112, 2964.5500719436895, 1466.4737444986583, 1173.8960585071136, 934.9317548036206, 487.33490457704346, 435.7950600490727, 382.8424169207869, 348.67823429473947, 340.7890738463404, 272.95393600870426, 248.93713813186767, 231.1854032618278, 205.53883105489538, 203.20917008176022, 184.4714414666436, 177.47933190730134, 169.21811846869176, 166.39240602446844, 146.64214340851635, 136.71079785896907, 132.3098035971943, 128.31820885565583, 116.10913007685534, 112.38076189797607, 103.1824783158539, 94.72284735088739, 85.28355501191946, 74.71796700410427, 69.11063174891356, 65.54478281187764, 268.8006456372992, 112.88849733148837, 1974.9661791815947, 647.602230295851, 590.8939954835876, 422.211063311782, 310.3506872977822, 266.3868942152021, 126.41227744722123, 120.98454341855214, 117.25894484662732, 114.63588739832036, 112.85201797163992, 110.74269891651585, 99.83395341351279, 87.44262169451225, 77.98061976704751, 65.60145962836395, 62.865168871450756, 60.91501865113159, 58.59307198659483, 46.15626916480411, 43.60062893060939, 34.0769903456835, 28.509567890378744, 21.885159322291983, 19.88862248404621, 10.34237713940391, 7.875871320437998, 7.567696207686022, 211.17971962395146, 142.79431618363057, 962.955855477237, 747.9498122957142, 197.0381531088905, 1451.7551635400616, 1025.9541263559481, 489.7647366776315, 396.0216815169673, 297.82002650075475, 261.4000541013656, 248.47687344645797, 199.58192143281235, 168.9939692289159, 165.0089699749505, 148.47822255042192, 140.22423278171243, 126.64367700089768, 111.799956086358, 92.45237343334229, 88.11990192614905, 78.21146562160614, 66.81635899672494, 54.67692588311695, 46.7346400110595, 43.24975432055653, 35.93968807293468, 35.362223871333136, 33.54399328289061, 27.136759445390297, 25.654876116345434, 25.451923980935277, 22.652745171683115, 22.014977940136312, 275.9441352234765, 17.990809165561004, 17.129396854992244, 425.7872484214742, 405.9372094985705, 250.09370732783842, 215.97418856732497, 188.16168332499353, 139.80636938351185, 115.644370107138, 94.06488015568956, 93.47000214876194, 81.68199691179427, 78.4965897756427, 66.42846082070945, 47.52474778219217, 45.224247283810044, 42.11174139480394, 40.776097573587585, 40.298262127679415, 39.519144402354236, 37.69590646411491, 34.9708245228864, 34.62902077401069, 32.210317761901216, 31.33360158273232, 30.02703047165911, 29.088973525950404, 27.99338086798579, 27.90389363880342, 26.098948056831095, 22.096818731439786, 21.892586380027332, 21.03708360038514, 14.879363462443294, 137.4386428771607, 541.6810664716343, 196.92657603095577, 163.4387142922418, 95.5700402267654, 61.11619939179137, 59.026712427484235, 55.432015269886236, 52.788794179935024, 52.34526627783129, 46.43650352798889, 41.944682620521675, 36.874731203126856, 31.496923041898597, 31.17087209857452, 28.99946557440466, 28.25273084082071, 22.283878108030876, 18.021877624649107, 13.35525033917061, 11.608508703205725, 10.845236744709712, 7.670556367854051, 7.434851194921439, 6.804688503053415, 6.549865817347043, 5.9665367632580155, 267.9647449125636, 1.329120535026848, 1.3291067727153985, 1.3291335734339067, 1.329183239913468], \"Category\": [\"Default\", \"Default\", \"Default\", \"Default\", \"Default\", \"Default\", \"Default\", \"Default\", \"Default\", \"Default\", \"Default\", \"Default\", \"Default\", \"Default\", \"Default\", \"Default\", \"Default\", \"Default\", \"Default\", \"Default\", \"Default\", \"Default\", \"Default\", \"Default\", \"Default\", \"Default\", \"Default\", \"Default\", \"Default\", \"Default\", \"Topic1\", \"Topic1\", \"Topic1\", \"Topic1\", \"Topic1\", \"Topic1\", \"Topic1\", \"Topic1\", \"Topic1\", \"Topic1\", \"Topic1\", \"Topic1\", \"Topic1\", \"Topic1\", \"Topic1\", \"Topic1\", \"Topic1\", \"Topic1\", \"Topic1\", \"Topic1\", \"Topic1\", \"Topic1\", \"Topic1\", \"Topic1\", \"Topic1\", \"Topic1\", \"Topic1\", \"Topic1\", \"Topic1\", \"Topic1\", \"Topic1\", \"Topic1\", \"Topic1\", \"Topic1\", \"Topic1\", \"Topic1\", \"Topic1\", \"Topic1\", \"Topic1\", \"Topic1\", \"Topic1\", \"Topic1\", \"Topic1\", \"Topic1\", \"Topic1\", \"Topic1\", \"Topic1\", \"Topic1\", \"Topic1\", \"Topic1\", \"Topic1\", \"Topic1\", \"Topic1\", \"Topic1\", \"Topic1\", \"Topic1\", \"Topic1\", \"Topic1\", \"Topic1\", \"Topic1\", \"Topic1\", \"Topic1\", \"Topic1\", \"Topic1\", \"Topic1\", \"Topic2\", \"Topic2\", \"Topic2\", \"Topic2\", \"Topic2\", \"Topic2\", \"Topic2\", \"Topic2\", \"Topic2\", \"Topic2\", \"Topic2\", \"Topic2\", \"Topic2\", \"Topic2\", \"Topic2\", \"Topic2\", \"Topic2\", \"Topic2\", \"Topic2\", \"Topic2\", \"Topic2\", \"Topic2\", \"Topic2\", \"Topic2\", \"Topic2\", \"Topic2\", \"Topic2\", \"Topic2\", \"Topic2\", \"Topic2\", \"Topic2\", \"Topic2\", \"Topic2\", \"Topic2\", \"Topic2\", \"Topic2\", \"Topic2\", \"Topic2\", \"Topic2\", \"Topic2\", \"Topic2\", \"Topic2\", \"Topic2\", \"Topic2\", \"Topic2\", \"Topic2\", \"Topic2\", \"Topic2\", \"Topic2\", \"Topic2\", \"Topic2\", \"Topic3\", \"Topic3\", \"Topic3\", \"Topic3\", \"Topic3\", \"Topic3\", \"Topic3\", \"Topic3\", \"Topic3\", \"Topic3\", \"Topic3\", \"Topic3\", \"Topic3\", \"Topic3\", \"Topic3\", \"Topic3\", \"Topic3\", \"Topic3\", \"Topic3\", \"Topic3\", \"Topic3\", \"Topic3\", \"Topic3\", \"Topic3\", \"Topic3\", \"Topic3\", \"Topic3\", \"Topic3\", \"Topic3\", \"Topic3\", \"Topic3\", \"Topic3\", \"Topic3\", \"Topic3\", \"Topic3\", \"Topic3\", \"Topic3\", \"Topic3\", \"Topic3\", \"Topic3\", \"Topic3\", \"Topic3\", \"Topic3\", \"Topic3\", \"Topic3\", \"Topic3\", \"Topic3\", \"Topic3\", \"Topic3\", \"Topic3\", \"Topic3\", \"Topic3\", \"Topic3\", \"Topic3\", \"Topic4\", \"Topic4\", \"Topic4\", \"Topic4\", \"Topic4\", \"Topic4\", \"Topic4\", \"Topic4\", \"Topic4\", \"Topic4\", \"Topic4\", \"Topic4\", \"Topic4\", \"Topic4\", \"Topic4\", \"Topic4\", \"Topic4\", \"Topic4\", \"Topic4\", \"Topic4\", \"Topic4\", \"Topic4\", \"Topic4\", \"Topic4\", \"Topic4\", \"Topic4\", \"Topic4\", \"Topic4\", \"Topic4\", \"Topic4\", \"Topic4\", \"Topic4\", \"Topic4\", \"Topic4\", \"Topic4\", \"Topic4\", \"Topic4\", \"Topic4\", \"Topic4\", \"Topic4\", \"Topic4\", \"Topic4\", \"Topic4\", \"Topic4\", \"Topic4\", \"Topic4\", \"Topic4\", \"Topic5\", \"Topic5\", \"Topic5\", \"Topic5\", \"Topic5\", \"Topic5\", \"Topic5\", \"Topic5\", \"Topic5\", \"Topic5\", \"Topic5\", \"Topic5\", \"Topic5\", \"Topic5\", \"Topic5\", \"Topic5\", \"Topic5\", \"Topic5\", \"Topic5\", \"Topic5\", \"Topic5\", \"Topic5\", \"Topic5\", \"Topic5\", \"Topic5\", \"Topic5\", \"Topic5\", \"Topic5\", \"Topic5\", \"Topic5\", \"Topic5\", \"Topic5\", \"Topic5\", \"Topic5\", \"Topic5\", \"Topic5\", \"Topic5\", \"Topic5\", \"Topic5\", \"Topic5\", \"Topic5\", \"Topic5\", \"Topic6\", \"Topic6\", \"Topic6\", \"Topic6\", \"Topic6\", \"Topic6\", \"Topic6\", \"Topic6\", \"Topic6\", \"Topic6\", \"Topic6\", \"Topic6\", \"Topic6\", \"Topic6\", \"Topic6\", \"Topic6\", \"Topic6\", \"Topic6\", \"Topic6\", \"Topic6\", \"Topic6\", \"Topic6\", \"Topic6\", \"Topic6\", \"Topic6\", \"Topic6\", \"Topic6\", \"Topic6\", \"Topic6\", \"Topic6\", \"Topic6\", \"Topic6\", \"Topic6\", \"Topic6\", \"Topic6\", \"Topic6\", \"Topic6\", \"Topic6\", \"Topic6\", \"Topic6\", \"Topic6\", \"Topic6\", \"Topic6\", \"Topic6\", \"Topic6\", \"Topic6\", \"Topic6\", \"Topic6\", \"Topic6\", \"Topic7\", \"Topic7\", \"Topic7\", \"Topic7\", \"Topic7\", \"Topic7\", \"Topic7\", \"Topic7\", \"Topic7\", \"Topic7\", \"Topic7\", \"Topic7\", \"Topic7\", \"Topic7\", \"Topic7\", \"Topic7\", \"Topic7\", \"Topic7\", \"Topic7\", \"Topic7\", \"Topic7\", \"Topic7\", \"Topic7\", \"Topic7\", \"Topic7\", \"Topic7\", \"Topic7\", \"Topic7\", \"Topic7\", \"Topic7\", \"Topic8\", \"Topic8\", \"Topic8\", \"Topic8\", \"Topic8\", \"Topic8\", \"Topic8\", \"Topic8\", \"Topic8\", \"Topic8\", \"Topic8\", \"Topic8\", \"Topic8\", \"Topic8\", \"Topic8\", \"Topic8\", \"Topic8\", \"Topic8\", \"Topic8\", \"Topic8\", \"Topic8\", \"Topic8\", \"Topic8\", \"Topic8\", \"Topic8\", \"Topic8\", \"Topic8\", \"Topic8\", \"Topic8\", \"Topic8\", \"Topic8\", \"Topic8\", \"Topic8\", \"Topic8\", \"Topic8\", \"Topic8\", \"Topic8\", \"Topic8\", \"Topic8\", \"Topic8\", \"Topic8\", \"Topic8\", \"Topic9\", \"Topic9\", \"Topic9\", \"Topic9\", \"Topic9\", \"Topic9\", \"Topic9\", \"Topic9\", \"Topic9\", \"Topic9\", \"Topic9\", \"Topic9\", \"Topic9\", \"Topic9\", \"Topic9\", \"Topic9\", \"Topic9\", \"Topic9\", \"Topic9\", \"Topic9\", \"Topic9\", \"Topic9\", \"Topic9\", \"Topic9\", \"Topic9\", \"Topic9\", \"Topic9\", \"Topic9\", \"Topic9\", \"Topic9\", \"Topic9\", \"Topic9\", \"Topic9\", \"Topic9\", \"Topic9\", \"Topic9\", \"Topic9\", \"Topic9\", \"Topic9\", \"Topic9\", \"Topic9\", \"Topic9\", \"Topic10\", \"Topic10\", \"Topic10\", \"Topic10\", \"Topic10\", \"Topic10\", \"Topic10\", \"Topic10\", \"Topic10\", \"Topic10\", \"Topic10\", \"Topic10\", \"Topic10\", \"Topic10\", \"Topic10\", \"Topic10\", \"Topic10\", \"Topic10\", \"Topic10\", \"Topic10\", \"Topic10\", \"Topic10\", \"Topic10\", \"Topic10\", \"Topic10\", \"Topic10\", \"Topic10\", \"Topic10\", \"Topic10\", \"Topic10\", \"Topic10\", \"Topic10\", \"Topic10\", \"Topic10\", \"Topic10\", \"Topic10\", \"Topic10\", \"Topic10\", \"Topic10\", \"Topic11\", \"Topic11\", \"Topic11\", \"Topic11\", \"Topic11\", \"Topic11\", \"Topic11\", \"Topic11\", \"Topic11\", \"Topic11\", \"Topic11\", \"Topic11\", \"Topic11\", \"Topic11\", \"Topic11\", \"Topic11\", \"Topic11\", \"Topic11\", \"Topic11\", \"Topic11\", \"Topic11\", \"Topic11\", \"Topic11\", \"Topic11\", \"Topic11\", \"Topic11\", \"Topic11\", \"Topic11\", \"Topic11\", \"Topic11\", \"Topic11\", \"Topic11\", \"Topic11\", \"Topic11\", \"Topic11\", \"Topic11\", \"Topic11\", \"Topic12\", \"Topic12\", \"Topic12\", \"Topic12\", \"Topic12\", \"Topic12\", \"Topic12\", \"Topic12\", \"Topic12\", \"Topic12\", \"Topic12\", \"Topic12\", \"Topic12\", \"Topic12\", \"Topic12\", \"Topic12\", \"Topic12\", \"Topic12\", \"Topic12\", \"Topic12\", \"Topic12\", \"Topic12\", \"Topic12\", \"Topic12\", \"Topic12\", \"Topic12\", \"Topic12\", \"Topic12\", \"Topic12\", \"Topic12\", \"Topic12\", \"Topic12\", \"Topic12\", \"Topic12\", \"Topic12\", \"Topic12\", \"Topic12\", \"Topic12\", \"Topic12\", \"Topic12\", \"Topic13\", \"Topic13\", \"Topic13\", \"Topic13\", \"Topic13\", \"Topic13\", \"Topic13\", \"Topic13\", \"Topic13\", \"Topic13\", \"Topic13\", \"Topic13\", \"Topic13\", \"Topic13\", \"Topic13\", \"Topic13\", \"Topic13\", \"Topic13\", \"Topic13\", \"Topic13\", \"Topic13\", \"Topic13\", \"Topic13\", \"Topic13\", \"Topic13\", \"Topic13\", \"Topic13\", \"Topic13\", \"Topic13\", \"Topic13\", \"Topic13\", \"Topic13\", \"Topic13\", \"Topic13\", \"Topic13\", \"Topic13\", \"Topic13\", \"Topic13\", \"Topic13\", \"Topic13\", \"Topic13\", \"Topic14\", \"Topic14\", \"Topic14\", \"Topic14\", \"Topic14\", \"Topic14\", \"Topic14\", \"Topic14\", \"Topic14\", \"Topic14\", \"Topic14\", \"Topic14\", \"Topic14\", \"Topic14\", \"Topic14\", \"Topic14\", \"Topic14\", \"Topic14\", \"Topic14\", \"Topic14\", \"Topic14\", \"Topic14\", \"Topic14\", \"Topic14\", \"Topic14\", \"Topic14\", \"Topic14\", \"Topic14\", \"Topic14\", \"Topic14\", \"Topic14\", \"Topic14\", \"Topic14\", \"Topic14\", \"Topic14\", \"Topic14\", \"Topic14\", \"Topic15\", \"Topic15\", \"Topic15\", \"Topic15\", \"Topic15\", \"Topic15\", \"Topic15\", \"Topic15\", \"Topic15\", \"Topic15\", \"Topic15\", \"Topic15\", \"Topic15\", \"Topic15\", \"Topic15\", \"Topic15\", \"Topic15\", \"Topic15\", \"Topic15\", \"Topic15\", \"Topic15\", \"Topic15\", \"Topic15\", \"Topic15\", \"Topic15\", \"Topic15\", \"Topic15\", \"Topic15\", \"Topic15\", \"Topic15\", \"Topic15\", \"Topic15\", \"Topic15\", \"Topic15\", \"Topic15\", \"Topic15\", \"Topic15\", \"Topic15\", \"Topic15\", \"Topic16\", \"Topic16\", \"Topic16\", \"Topic16\", \"Topic16\", \"Topic16\", \"Topic16\", \"Topic16\", \"Topic16\", \"Topic16\", \"Topic16\", \"Topic16\", \"Topic16\", \"Topic16\", \"Topic16\", \"Topic16\", \"Topic16\", \"Topic16\", \"Topic16\", \"Topic16\", \"Topic16\", \"Topic16\", \"Topic16\", \"Topic16\", \"Topic16\", \"Topic16\", \"Topic16\", \"Topic16\", \"Topic16\", \"Topic16\", \"Topic16\", \"Topic16\", \"Topic17\", \"Topic17\", \"Topic17\", \"Topic17\", \"Topic17\", \"Topic17\", \"Topic17\", \"Topic17\", \"Topic17\", \"Topic17\", \"Topic17\", \"Topic17\", \"Topic17\", \"Topic17\", \"Topic17\", \"Topic17\", \"Topic17\", \"Topic17\", \"Topic17\", \"Topic17\", \"Topic17\", \"Topic17\", \"Topic17\", \"Topic17\", \"Topic17\", \"Topic17\", \"Topic17\", \"Topic17\", \"Topic17\", \"Topic17\", \"Topic17\", \"Topic17\", \"Topic17\", \"Topic17\", \"Topic17\", \"Topic18\", \"Topic18\", \"Topic18\", \"Topic18\", \"Topic18\", \"Topic18\", \"Topic18\", \"Topic18\", \"Topic18\", \"Topic18\", \"Topic18\", \"Topic18\", \"Topic18\", \"Topic18\", \"Topic18\", \"Topic18\", \"Topic18\", \"Topic18\", \"Topic18\", \"Topic18\", \"Topic18\", \"Topic18\", \"Topic18\", \"Topic18\", \"Topic18\", \"Topic18\", \"Topic18\", \"Topic18\", \"Topic18\", \"Topic18\", \"Topic18\", \"Topic18\", \"Topic19\", \"Topic19\", \"Topic19\", \"Topic19\", \"Topic19\", \"Topic19\", \"Topic19\", \"Topic19\", \"Topic19\", \"Topic19\", \"Topic19\", \"Topic19\", \"Topic19\", \"Topic19\", \"Topic19\", \"Topic19\", \"Topic19\", \"Topic19\", \"Topic19\", \"Topic19\", \"Topic19\", \"Topic19\", \"Topic19\", \"Topic19\", \"Topic19\", \"Topic19\", \"Topic19\", \"Topic19\", \"Topic19\", \"Topic19\", \"Topic19\", \"Topic20\", \"Topic20\", \"Topic20\", \"Topic20\", \"Topic20\", \"Topic20\", \"Topic20\", \"Topic20\", \"Topic20\", \"Topic20\", \"Topic20\", \"Topic20\", \"Topic20\", \"Topic20\", \"Topic20\", \"Topic20\", \"Topic20\", \"Topic20\", \"Topic20\", \"Topic20\", \"Topic20\", \"Topic20\", \"Topic20\", \"Topic20\", \"Topic20\", \"Topic20\", \"Topic20\", \"Topic20\", \"Topic20\", \"Topic20\", \"Topic20\"], \"logprob\": [30.0, 29.0, 28.0, 27.0, 26.0, 25.0, 24.0, 23.0, 22.0, 21.0, 20.0, 19.0, 18.0, 17.0, 16.0, 15.0, 14.0, 13.0, 12.0, 11.0, 10.0, 9.0, 8.0, 7.0, 6.0, 5.0, 4.0, 3.0, 2.0, 1.0, -3.7077, -4.0164, -4.359, -4.6691, -4.7148, -4.9273, -4.9521, -5.0067, -5.0362, -5.3502, -5.4075, -5.4664, -5.4939, -5.4708, -5.7601, -5.8225, -5.8264, -5.8377, -5.9112, -5.9742, -5.9878, -6.0051, -6.0193, -6.0587, -6.1584, -6.2375, -6.2538, -6.2975, -6.3176, -6.3371, -3.8341, -4.6175, -3.4444, -5.5377, -5.3406, -5.0887, -4.2353, -5.5276, -4.4826, -3.6901, -5.0189, -5.0755, -4.1329, -4.8172, -5.1128, -5.1681, -4.0525, -4.474, -3.9848, -4.181, -4.3997, -4.4157, -5.0529, -4.5531, -4.7479, -4.1064, -4.546, -4.5495, -4.9036, -4.6159, -4.417, -4.9091, -4.7775, -4.8357, -4.8973, -4.3459, -4.3575, -4.4809, -4.5612, -4.789, -4.8425, -4.9904, -5.0126, -5.0631, -5.0875, -5.1092, -5.2208, -5.3194, -5.4515, -5.4678, -5.5015, -5.5337, -5.5445, -5.5626, -5.5662, -5.601, -5.6112, -5.6466, -5.6841, -5.6848, -5.7021, -5.7027, -5.8082, -5.8161, -5.8554, -3.5837, -4.5107, -5.1482, -5.1526, -5.342, -4.4199, -5.0983, -4.5229, -4.7707, -5.3115, -3.9745, -4.6718, -5.1089, -4.6894, -5.1534, -4.5536, -5.1223, -5.0489, -4.9694, -5.0926, -5.1253, -4.0167, -4.0656, -4.2351, -4.3956, -4.489, -4.6693, -4.774, -4.7992, -4.8046, -4.8338, -4.9049, -4.9818, -5.0626, -5.1551, -5.1817, -5.203, -5.2056, -5.2494, -5.3207, -5.3254, -5.3602, -5.3622, -5.4834, -5.5047, -5.5203, -5.5221, -5.5249, -4.5531, -5.5783, -5.6202, -4.1975, -4.4147, -4.1626, -4.7363, -4.2116, -4.3837, -5.3424, -4.9683, -5.0711, -4.9946, -5.1202, -4.4748, -4.5688, -4.2833, -5.0063, -4.6669, -4.5375, -4.7636, -4.4557, -4.8649, -4.5985, -4.683, -4.766, -4.8616, -4.0636, -4.2339, -4.2966, -4.5664, -4.7128, -4.786, -4.8303, -4.8425, -4.8691, -4.8891, -4.9077, -4.9194, -4.9606, -4.9632, -4.9643, -4.9831, -4.9846, -5.0205, -5.0445, -5.0815, -5.0894, -5.1111, -5.1232, -5.2032, -5.2347, -5.2498, -5.2587, -5.3413, -5.4201, -5.4651, -3.8393, -5.0499, -4.5964, -4.6349, -4.3511, -4.7076, -4.3603, -3.9811, -4.9271, -4.7776, -4.6606, -4.247, -4.6672, -4.864, -4.6601, -4.8269, -4.9318, -2.8396, -3.6024, -4.0791, -4.3711, -4.4016, -4.5307, -4.5432, -4.5739, -4.5878, -4.6344, -4.6585, -4.6613, -4.6672, -4.7901, -4.7966, -4.9192, -3.6993, -4.9574, -5.029, -5.0666, -5.1084, -5.1311, -5.1463, -5.161, -5.184, -5.2068, -5.2809, -5.2901, -5.2916, -5.3082, -4.5385, -4.221, -4.1126, -4.4362, -3.0807, -4.6232, -4.2242, -3.7653, -4.1325, -4.7946, -4.6997, -4.6068, -2.5831, -2.6699, -4.8186, -5.1456, -5.4979, -5.7432, -6.0574, -6.1696, -6.3874, -3.7142, -6.4843, -6.7747, -7.0442, -7.0859, -7.4385, -7.5082, -7.5097, -2.1521, -7.6623, -3.2897, -7.8675, -4.2551, -4.1196, -8.3, -8.3453, -2.3152, -8.705, -1.7144, -4.4947, -3.4467, -2.025, -4.6233, -5.1755, -6.2689, -5.6775, -5.053, -5.7961, -4.8391, -4.8001, -4.9414, -4.9516, -4.9517, -5.5151, -4.9243, -4.746, -5.3183, -5.2114, -5.6168, -5.6182, -0.3496, -3.6522, -4.3296, -4.3712, -4.399, -4.75, -4.9585, -5.0747, -5.1448, -5.3519, -5.3801, -5.3973, -5.6271, -5.674, -5.7692, -5.8926, -5.9245, -5.9316, -5.9775, -5.9827, -6.0197, -6.0231, -6.0263, -6.0497, -6.0605, -6.1492, -6.1774, -6.2231, -6.23, -6.2974, -3.2533, -3.662, -3.6989, -3.7631, -3.7734, -3.7786, -3.9151, -3.9182, -4.034, -4.2132, -4.3567, -4.3668, -4.4212, -4.4735, -4.5006, -4.629, -4.6612, -4.693, -4.7343, -4.7507, -4.7725, -4.7957, -4.8197, -4.9139, -4.9629, -4.9802, -4.993, -4.9971, -5.1105, -5.2113, -4.2694, -2.9589, -3.3181, -3.6059, -4.5192, -4.1813, -4.4213, -3.8371, -4.499, -4.5483, -4.5415, -4.7142, -2.4877, -2.5437, -2.9059, -3.0048, -3.6935, -3.9021, -3.9635, -4.2299, -4.4115, -4.5072, -4.5146, -4.5184, -4.6913, -4.7822, -4.792, -4.8603, -4.8923, -4.893, -4.9161, -4.9222, -4.9327, -4.9534, -5.1099, -5.1652, -5.2915, -5.3501, -5.3645, -5.3805, -5.3835, -5.4967, -4.0796, -4.5366, -4.4773, -3.1739, -4.3763, -3.7653, -4.2423, -4.6196, -4.504, -4.5157, -4.6658, -4.8865, -2.5357, -3.4601, -3.6489, -3.8393, -3.9199, -3.9642, -4.0535, -4.1273, -4.1529, -4.2493, -4.3274, -4.3712, -4.5243, -4.5605, -4.5664, -4.5734, -4.6098, -4.6415, -4.7216, -4.7629, -4.8164, -4.8325, -4.8335, -4.8449, -4.874, -4.8914, -4.9211, -4.9262, -4.9702, -4.9723, -4.2741, -4.3049, -4.0571, -4.1088, -4.5763, -4.5576, -4.0334, -4.1657, -4.7922, -2.3884, -2.9083, -3.0081, -3.226, -3.3138, -3.4005, -3.5423, -3.8107, -4.1072, -4.1249, -4.203, -4.2175, -4.2422, -4.2577, -4.2748, -4.4553, -4.6129, -4.622, -4.672, -4.8039, -4.8449, -4.8898, -4.9746, -4.9817, -5.0086, -5.0585, -5.0962, -5.1787, -5.2508, -5.26, -4.1483, -3.8596, -3.4957, -3.8774, -4.5339, -4.1264, -4.5673, -2.9524, -3.4229, -3.4973, -3.6405, -3.7437, -3.997, -4.1169, -4.1236, -4.1431, -4.2583, -4.2978, -4.5236, -4.6125, -4.7115, -4.744, -4.7481, -4.7825, -4.7885, -4.8444, -4.8503, -4.8808, -4.9072, -4.9356, -4.9471, -5.0272, -5.0633, -5.1399, -5.2338, -5.368, -5.3836, -3.5514, -3.7073, -4.7682, -3.7997, -4.2871, -4.396, -4.1985, -4.5849, -4.6964, -4.4799, -1.9495, -3.2812, -3.4613, -3.4762, -3.7325, -3.8075, -3.8247, -3.9453, -4.3597, -4.4054, -4.4181, -4.5053, -4.5454, -4.6235, -4.7138, -4.7159, -4.8435, -4.8482, -5.0835, -5.0924, -5.1135, -5.123, -5.1804, -5.2697, -5.3659, -5.3925, -5.4313, -5.4695, -5.5017, -5.5929, -4.5385, -3.2951, -4.0053, -4.0725, -3.9238, -3.908, -3.8633, -4.7686, -4.6441, -4.5612, -5.0069, -2.3751, -3.5592, -3.703, -3.8378, -3.8486, -3.8667, -4.0113, -4.0424, -4.1401, -4.238, -4.3606, -4.3703, -4.3864, -4.4701, -4.4805, -4.5273, -4.536, -4.5815, -4.602, -4.7708, -4.7888, -4.8029, -4.818, -4.8856, -4.9807, -5.0113, -5.0303, -5.0775, -5.1144, -5.1208, -3.5731, -4.5826, -4.8657, -4.598, -4.5526, -4.7396, -4.7905, -2.7418, -2.9489, -3.037, -3.6843, -3.7027, -3.7342, -3.7955, -3.9561, -4.0229, -4.1219, -4.3431, -4.3765, -4.5654, -4.6182, -4.6411, -4.703, -4.716, -4.7162, -4.731, -4.8099, -4.8135, -4.8669, -4.9086, -5.0188, -5.0251, -5.0783, -5.0849, -5.0966, -5.1053, -5.1205, -4.3309, -3.9385, -4.3567, -4.918, -4.0432, -4.1306, -4.0677, -4.8079, -4.711, -1.6527, -2.357, -2.5797, -2.8076, -3.4604, -3.5725, -3.7024, -3.7962, -3.8192, -4.0421, -4.1346, -4.209, -4.3273, -4.3388, -4.4361, -4.4751, -4.5231, -4.54, -4.6674, -4.7382, -4.7712, -4.8022, -4.9032, -4.9362, -5.0226, -5.1093, -5.2158, -5.3502, -5.4296, -5.4836, -4.2508, -5.0848, -1.5712, -2.6875, -2.7793, -3.1163, -3.4252, -3.5786, -4.3294, -4.3737, -4.4053, -4.4282, -4.444, -4.4631, -4.5681, -4.7024, -4.8188, -4.9947, -5.0382, -5.0704, -5.1101, -5.3546, -5.4133, -5.6681, -5.8541, -6.1327, -6.2345, -6.9533, -7.2704, -7.3182, -4.8618, -5.2664, -3.808, -4.2765, -5.1803, -4.968, -5.6244, -2.5717, -2.7847, -3.0708, -3.2018, -3.2528, -3.4732, -3.6407, -3.6648, -3.7712, -3.8289, -3.9318, -4.0578, -4.2502, -4.2989, -4.4201, -4.5804, -4.7852, -4.9463, -5.026, -5.2174, -5.2342, -5.289, -5.5104, -5.5695, -5.5778, -5.7009, -5.7312, -3.2059, -5.947, -5.9999, -3.878, -5.8518, -2.8641, -3.0116, -3.1503, -3.4497, -3.6414, -3.8505, -3.857, -3.9938, -4.0342, -4.2042, -4.5469, -4.598, -4.6714, -4.7047, -4.7169, -4.737, -4.7859, -4.8637, -4.8739, -4.9492, -4.978, -5.0224, -5.0556, -5.0958, -5.0991, -5.1694, -5.3453, -5.3551, -5.3975, -5.7711, -3.5749, -1.9371, -2.9532, -3.1409, -3.6832, -4.138, -4.1735, -4.2378, -4.2879, -4.2965, -4.4195, -4.5243, -4.6575, -4.8213, -4.8322, -4.9076, -4.9349, -5.1852, -5.4121, -5.739, -5.8954, -5.9722, -6.376, -6.4137, -6.5218, -6.5691, -6.6867, -3.929, -11.4476, -11.4476, -11.4476, -11.4476], \"loglift\": [30.0, 29.0, 28.0, 27.0, 26.0, 25.0, 24.0, 23.0, 22.0, 21.0, 20.0, 19.0, 18.0, 17.0, 16.0, 15.0, 14.0, 13.0, 12.0, 11.0, 10.0, 9.0, 8.0, 7.0, 6.0, 5.0, 4.0, 3.0, 2.0, 1.0, 1.4189, 1.4188, 1.4187, 1.4186, 1.4186, 1.4185, 1.4185, 1.4184, 1.4184, 1.4182, 1.4181, 1.4181, 1.4181, 1.4179, 1.4178, 1.4177, 1.4177, 1.4177, 1.4176, 1.4175, 1.4174, 1.4174, 1.4174, 1.4173, 1.4172, 1.417, 1.417, 1.4169, 1.4168, 1.4168, 1.4072, 1.413, 1.3667, 1.4058, 1.3995, 1.3929, 1.3662, 1.3997, 1.3527, 1.2956, 1.3619, 1.3654, 1.3024, 1.3446, 1.3637, 1.3592, 1.2298, 1.2658, 1.1345, 1.1576, 1.1926, 1.1895, 1.3244, 1.1484, 1.1981, 0.9406, 1.0801, 1.0389, 1.2585, 0.9622, 0.5556, 1.2237, 0.9002, 0.7302, 0.8553, 1.5458, 1.5458, 1.5457, 1.5457, 1.5456, 1.5455, 1.5454, 1.5454, 1.5454, 1.5454, 1.5454, 1.5453, 1.5452, 1.5451, 1.545, 1.545, 1.545, 1.545, 1.5449, 1.5449, 1.5449, 1.5449, 1.5448, 1.5448, 1.5448, 1.5448, 1.5448, 1.5446, 1.5446, 1.5445, 1.5276, 1.5341, 1.5304, 1.5166, 1.505, 1.3941, 1.4595, 1.2524, 1.2926, 1.4494, 0.9982, 1.2238, 1.3803, 1.1102, 1.3105, 0.4935, 1.0603, 0.7037, 0.1498, 0.5851, 0.6061, 2.0872, 2.0872, 2.0871, 2.087, 2.087, 2.0868, 2.0867, 2.0867, 2.0867, 2.0867, 2.0866, 2.0865, 2.0864, 2.0863, 2.0863, 2.0862, 2.0862, 2.0862, 2.0861, 2.0861, 2.086, 2.086, 2.0858, 2.0857, 2.0857, 2.0857, 2.0857, 2.0857, 2.0856, 2.0855, 2.0618, 2.0574, 2.0496, 2.0505, 1.9965, 1.9853, 2.0691, 2.0087, 2.0198, 2.0016, 2.0267, 1.5067, 1.4528, 1.0738, 1.8556, 1.3797, 1.1995, 1.504, 0.8744, 1.5888, 0.9674, 1.0605, 0.8121, 1.3062, 2.6752, 2.675, 2.675, 2.6746, 2.6744, 2.6743, 2.6742, 2.6742, 2.6742, 2.6741, 2.6741, 2.6741, 2.674, 2.674, 2.674, 2.6739, 2.6739, 2.6739, 2.6738, 2.6737, 2.6737, 2.6737, 2.6736, 2.6734, 2.6734, 2.6733, 2.6733, 2.6731, 2.6728, 2.6727, 2.663, 2.6714, 2.6629, 2.6476, 2.6214, 2.6346, 2.5929, 2.3729, 2.6097, 2.5493, 2.2611, 1.7345, 2.0255, 2.3263, 1.824, 2.1961, 2.1691, 2.7226, 2.7223, 2.722, 2.7217, 2.7217, 2.7215, 2.7215, 2.7215, 2.7214, 2.7214, 2.7213, 2.7213, 2.7213, 2.7211, 2.7211, 2.7209, 2.7208, 2.7208, 2.7206, 2.7206, 2.7205, 2.7204, 2.7204, 2.7203, 2.7203, 2.7202, 2.72, 2.72, 2.72, 2.7199, 2.656, 2.6042, 2.5715, 2.6116, 2.2495, 2.5804, 2.468, 1.9748, 1.8584, 2.3887, 1.7966, 0.9591, 2.7273, 2.7273, 2.7257, 2.7249, 2.7239, 2.7229, 2.7212, 2.7204, 2.7187, 2.7185, 2.7178, 2.7146, 2.7107, 2.71, 2.7026, 2.7009, 2.7008, 2.6993, 2.6965, 2.6964, 2.6896, 2.6879, 2.68, 2.6696, 2.667, 2.6451, 2.6419, 2.6296, 2.6193, 2.5922, 2.5648, 2.5229, 2.5378, 2.5751, 2.528, 2.4183, 2.4254, 2.237, 2.2184, 2.1412, 2.1421, 2.0984, 2.2994, 1.9381, 1.7381, 2.0636, 1.5289, 1.9319, 1.9053, 3.0952, 3.0944, 3.0937, 3.0936, 3.0935, 3.0929, 3.0923, 3.092, 3.0917, 3.0909, 3.0908, 3.0907, 3.0896, 3.0893, 3.0887, 3.0879, 3.0876, 3.0876, 3.0872, 3.0872, 3.0869, 3.0869, 3.0868, 3.0866, 3.0865, 3.0857, 3.0855, 3.085, 3.0849, 3.0842, 3.4606, 3.4602, 3.4601, 3.46, 3.46, 3.46, 3.4598, 3.4598, 3.4596, 3.4593, 3.459, 3.4589, 3.4588, 3.4587, 3.4586, 3.4582, 3.4581, 3.458, 3.4579, 3.4578, 3.4577, 3.4576, 3.4575, 3.4572, 3.457, 3.4569, 3.4568, 3.4568, 3.4563, 3.4557, 3.4522, 3.4332, 3.4246, 3.3505, 3.4165, 3.3398, 3.3181, 3.045, 3.2294, 3.19, 2.8536, 2.7249, 3.8652, 3.8651, 3.8649, 3.8648, 3.8639, 3.8634, 3.8633, 3.8625, 3.8619, 3.8615, 3.8615, 3.8615, 3.8607, 3.8602, 3.8602, 3.8598, 3.8596, 3.8596, 3.8594, 3.8594, 3.8593, 3.8592, 3.8581, 3.8577, 3.8566, 3.856, 3.8559, 3.8557, 3.8557, 3.8545, 3.555, 3.5497, 3.3811, 2.4145, 3.1709, 2.2256, 2.652, 2.8857, 1.3223, 1.2983, 1.6801, 2.9487, 3.8908, 3.8899, 3.8896, 3.8892, 3.889, 3.8889, 3.8887, 3.8885, 3.8884, 3.8881, 3.8878, 3.8877, 3.887, 3.8869, 3.8868, 3.8868, 3.8866, 3.8865, 3.8861, 3.8859, 3.8856, 3.8855, 3.8855, 3.8854, 3.8852, 3.8851, 3.8849, 3.8849, 3.8846, 3.8846, 3.8704, 3.779, 3.7175, 3.6888, 3.7049, 3.6615, 3.252, 3.1457, 1.8197, 4.0545, 4.0541, 4.054, 4.0537, 4.0536, 4.0534, 4.0532, 4.0526, 4.0517, 4.0516, 4.0514, 4.0513, 4.0512, 4.0511, 4.0511, 4.0503, 4.0495, 4.0494, 4.0491, 4.0483, 4.048, 4.0477, 4.047, 4.047, 4.0467, 4.0463, 4.046, 4.0452, 4.0445, 4.0444, 4.0065, 3.9908, 3.9275, 3.3355, 3.5744, 3.0171, 1.8596, 4.1611, 4.1604, 4.1603, 4.16, 4.1597, 4.1589, 4.1585, 4.1585, 4.1584, 4.1579, 4.1577, 4.1566, 4.1561, 4.1554, 4.1552, 4.1552, 4.1549, 4.1549, 4.1544, 4.1544, 4.1541, 4.1539, 4.1537, 4.1536, 4.1529, 4.1525, 4.1517, 4.1507, 4.149, 4.1488, 3.9982, 3.5958, 3.8275, 3.0824, 3.4576, 3.3465, 2.9693, 3.2029, 3.2028, 1.9704, 4.2784, 4.2771, 4.2767, 4.2767, 4.276, 4.2758, 4.2757, 4.2753, 4.2735, 4.2732, 4.2731, 4.2726, 4.2723, 4.2718, 4.2711, 4.2711, 4.2701, 4.27, 4.2677, 4.2676, 4.2673, 4.2672, 4.2665, 4.2654, 4.264, 4.2636, 4.263, 4.2624, 4.2619, 4.2603, 3.9508, 3.4011, 3.6531, 3.5995, 2.9386, 2.7841, 2.587, 3.5437, 2.8679, 2.5851, 1.4742, 4.2824, 4.2807, 4.2803, 4.2799, 4.2799, 4.2798, 4.2793, 4.2792, 4.2788, 4.2783, 4.2777, 4.2776, 4.2775, 4.2771, 4.277, 4.2767, 4.2766, 4.2763, 4.2762, 4.2749, 4.2748, 4.2746, 4.2745, 4.2739, 4.273, 4.2727, 4.2725, 4.2719, 4.2715, 4.2714, 3.6675, 3.7431, 3.8974, 3.345, 1.0358, 2.0855, 2.2596, 4.4037, 4.4034, 4.4033, 4.4017, 4.4017, 4.4016, 4.4014, 4.4008, 4.4005, 4.4, 4.3988, 4.3986, 4.3973, 4.3969, 4.3967, 4.3962, 4.396, 4.396, 4.3959, 4.3952, 4.3951, 4.3946, 4.3942, 4.3929, 4.3928, 4.3922, 4.3921, 4.392, 4.3918, 4.3916, 3.9947, 3.7421, 3.9223, 4.2739, 3.4027, 2.9196, 2.7323, 3.4286, 2.2368, 4.4331, 4.4326, 4.4324, 4.4321, 4.4309, 4.4306, 4.4302, 4.4298, 4.4298, 4.4288, 4.4284, 4.428, 4.4273, 4.4272, 4.4266, 4.4263, 4.4259, 4.4258, 4.4248, 4.4241, 4.4238, 4.4235, 4.4225, 4.4221, 4.4211, 4.42, 4.4185, 4.4163, 4.4149, 4.4139, 4.2354, 4.269, 4.9207, 4.9194, 4.9192, 4.9184, 4.9173, 4.9166, 4.9113, 4.9109, 4.9105, 4.9103, 4.9101, 4.9099, 4.9086, 4.9068, 4.905, 4.9019, 4.901, 4.9004, 4.8995, 4.8935, 4.8919, 4.8835, 4.8759, 4.8617, 4.8556, 4.7907, 4.746, 4.7382, 3.8657, 3.8524, 3.4022, 3.1864, 3.6166, 1.8316, 1.5224, 5.3146, 5.314, 5.3129, 5.3123, 5.3121, 5.3108, 5.3096, 5.3095, 5.3086, 5.3081, 5.3071, 5.3057, 5.3033, 5.3026, 5.3007, 5.2979, 5.2935, 5.2895, 5.2872, 5.2809, 5.2803, 5.2783, 5.2689, 5.266, 5.2656, 5.259, 5.2573, 5.2542, 5.2434, 5.2395, 4.1482, 2.2222, 5.6943, 5.6935, 5.6926, 5.6902, 5.6883, 5.6857, 5.6856, 5.6836, 5.6829, 5.6799, 5.672, 5.6706, 5.6685, 5.6674, 5.667, 5.6664, 5.6648, 5.662, 5.6616, 5.6587, 5.6576, 5.6557, 5.6543, 5.6525, 5.6523, 5.649, 5.6395, 5.6389, 5.6364, 5.6091, 5.5822, 5.8484, 5.8442, 5.8429, 5.8372, 5.8295, 5.8287, 5.8272, 5.8261, 5.8258, 5.8226, 5.8196, 5.8152, 5.809, 5.8085, 5.8053, 5.8041, 5.7912, 5.7766, 5.7493, 5.7331, 5.7242, 5.6668, 5.6604, 5.6408, 5.6316, 5.6074, 4.5603, 2.3481, 2.3481, 2.3481, 2.348]}, \"token.table\": {\"Topic\": [19, 8, 13, 16, 2, 4, 3, 3, 13, 19, 15, 2, 13, 13, 1, 2, 3, 4, 5, 6, 4, 11, 18, 5, 15, 8, 14, 1, 3, 5, 17, 6, 12, 4, 12, 2, 8, 12, 12, 1, 2, 6, 13, 14, 6, 5, 8, 19, 2, 12, 13, 17, 19, 16, 17, 3, 16, 15, 3, 5, 6, 9, 7, 1, 16, 1, 11, 11, 8, 9, 20, 19, 8, 2, 8, 15, 1, 4, 10, 16, 7, 5, 4, 18, 8, 6, 2, 5, 13, 11, 19, 7, 2, 3, 11, 4, 6, 9, 4, 9, 20, 10, 11, 5, 10, 17, 1, 5, 10, 11, 10, 10, 14, 7, 10, 16, 1, 2, 8, 12, 14, 2, 3, 5, 2, 3, 5, 15, 1, 6, 12, 14, 15, 2, 18, 13, 4, 5, 6, 6, 8, 12, 5, 13, 5, 2, 2, 18, 12, 2, 2, 13, 11, 10, 3, 20, 18, 6, 17, 1, 2, 13, 14, 1, 5, 6, 13, 4, 5, 13, 19, 3, 5, 6, 10, 12, 12, 15, 14, 19, 10, 15, 15, 18, 6, 3, 19, 2, 3, 4, 5, 18, 7, 4, 6, 10, 18, 3, 3, 6, 17, 18, 2, 1, 4, 12, 11, 17, 8, 12, 8, 7, 13, 6, 6, 19, 16, 10, 10, 1, 8, 3, 5, 14, 12, 1, 2, 10, 13, 8, 12, 12, 5, 17, 6, 19, 2, 4, 4, 7, 5, 14, 5, 17, 2, 2, 4, 5, 5, 6, 10, 8, 2, 15, 11, 3, 14, 3, 20, 6, 12, 6, 9, 2, 3, 10, 9, 18, 18, 16, 16, 13, 2, 14, 5, 8, 15, 15, 15, 3, 11, 7, 19, 5, 7, 10, 3, 15, 9, 17, 3, 12, 18, 1, 2, 2, 17, 2, 2, 3, 10, 15, 16, 15, 2, 19, 13, 19, 17, 10, 2, 5, 15, 18, 2, 8, 16, 9, 3, 5, 9, 5, 6, 17, 5, 17, 4, 3, 2, 3, 9, 1, 2, 3, 16, 6, 8, 6, 1, 2, 3, 4, 9, 12, 14, 19, 13, 14, 11, 20, 15, 17, 2, 3, 2, 12, 4, 8, 3, 11, 14, 1, 16, 10, 14, 3, 9, 13, 10, 11, 16, 20, 12, 9, 1, 3, 11, 7, 12, 1, 2, 3, 1, 4, 8, 1, 2, 3, 2, 12, 13, 7, 2, 10, 2, 3, 1, 8, 1, 18, 1, 2, 12, 1, 2, 5, 7, 2, 4, 10, 12, 5, 15, 1, 10, 1, 3, 13, 4, 5, 15, 1, 9, 9, 9, 12, 7, 17, 6, 20, 2, 3, 5, 9, 8, 12, 16, 5, 17, 1, 3, 19, 19, 3, 4, 11, 4, 5, 4, 13, 20, 3, 3, 13, 12, 12, 3, 20, 18, 15, 5, 13, 7, 19, 1, 4, 11, 10, 12, 14, 3, 12, 12, 2, 3, 13, 2, 12, 20, 1, 2, 6, 7, 13, 3, 6, 8, 12, 19, 16, 1, 2, 3, 3, 6, 1, 2, 12, 4, 1, 9, 12, 14, 2, 2, 4, 9, 1, 2, 4, 5, 1, 2, 8, 12, 2, 8, 1, 10, 5, 1, 3, 6, 3, 1, 2, 19, 4, 19, 1, 3, 1, 9, 2, 4, 5, 6, 6, 4, 10, 14, 9, 1, 5, 17, 11, 1, 2, 3, 4, 8, 9, 12, 3, 11, 16, 1, 2, 3, 4, 14, 14, 6, 15, 12, 13, 18, 2, 1, 2, 5, 15, 15, 5, 3, 7, 10, 2, 12, 14, 8, 2, 15, 16, 5, 14, 17, 5, 3, 10, 11, 1, 18, 1, 14, 8, 8, 12, 8, 11, 17, 4, 19, 20, 1, 2, 5, 8, 12, 7, 8, 1, 3, 5, 2, 3, 6, 9, 3, 1, 2, 3, 4, 11, 13, 1, 3, 6, 10, 1, 6, 10, 4, 9, 9, 11, 13, 2, 3, 4, 8, 9, 3, 2, 15, 20, 12, 12, 9, 2, 11, 4, 10, 13, 1, 3, 11, 13, 1, 2, 6, 17, 3, 17, 17, 14, 19, 1, 6, 12, 3, 14, 10, 17, 3, 12, 13, 4, 8, 17, 9, 18, 20, 14, 15, 1, 7, 2, 12, 14, 16, 2, 6, 13, 12, 15, 1, 9, 4, 11, 9, 14, 14, 14, 9, 4, 11, 2, 3, 4, 9, 8, 18, 20, 5, 16, 1, 2, 3, 20, 4, 10, 6, 10, 1, 11, 16, 2, 13, 15, 1, 2, 3, 10, 1, 3, 5, 16, 12, 11, 5, 9, 3, 17, 3, 14, 4, 13, 2, 13, 2, 2, 3, 5, 13, 15, 11, 2, 13, 4, 2, 9, 18, 4, 11, 1, 2, 15, 2, 3, 11, 17, 18, 15, 14, 5, 8, 16, 20, 1, 2, 3, 8, 1, 2, 2, 7, 17, 2, 3, 18, 19, 11, 15, 4, 2, 3, 18, 13, 19, 2, 18, 1, 16, 16, 3, 6, 7, 12, 3, 8, 9, 15, 7, 3, 3, 6, 14, 15, 8, 2, 3, 4, 5, 15, 7, 5, 18, 10, 10, 1, 2, 16, 15, 2, 15, 10, 12, 19, 9, 14, 7, 10, 7, 2, 1, 3, 5, 9, 17, 1, 8, 10, 11, 9, 14, 16, 1, 2, 9, 2, 6, 15, 15, 9, 5, 10, 5, 1, 13, 3, 13, 13, 1, 2, 3, 8, 10, 3, 2, 18, 16, 17, 1, 3, 15, 19, 2, 3, 15, 7, 17, 14, 1, 10, 18, 20, 7, 2, 3, 4, 5, 9, 2, 4, 14, 12, 5, 4, 4, 3, 5, 14, 12, 5, 1, 1, 6, 9, 2, 10, 11, 3, 12, 12, 20, 14, 14, 8, 19, 8, 16, 5, 10, 9, 17, 9, 2, 5, 9, 14, 1, 3, 9, 2, 18, 16, 1, 2, 4, 20, 3, 6, 15, 19, 19, 3, 11, 2, 3, 5, 1, 2, 3, 7, 5, 16, 18, 5, 4, 6, 1, 2, 2, 11, 17, 7, 9, 5, 6, 13, 14, 20, 1, 2, 2, 12, 16, 16, 20, 3, 6, 13, 1, 2, 1, 2, 7, 1, 2, 3, 5, 16, 18, 5, 8, 1, 2, 5, 9, 14, 11, 1, 5, 7, 15, 18, 12, 2, 19, 8, 1, 2, 3, 20, 12, 12, 17, 2, 20, 4, 8, 3, 6, 11, 11, 13, 20, 1, 2, 3, 4, 5, 11, 3, 13, 17, 4, 1, 10, 14, 17, 3, 5, 11, 5, 12, 20, 7, 4, 14, 13, 18, 20, 1, 2, 3, 2, 12, 16, 15, 10, 1, 2, 3, 12, 8, 1, 15, 5, 1, 2, 20, 4, 10, 9, 17, 1, 10, 12, 8, 12, 1, 2, 3, 1, 3, 5, 12, 2, 12, 1, 1, 2, 6, 1, 2, 4, 9, 12, 14, 15, 9, 4, 8, 9, 14], \"Freq\": [0.9574386117340798, 0.9984695118705446, 0.9874878003718336, 0.9928014891093525, 0.9988593373357354, 0.9979799953607805, 0.9990600268905568, 0.9983287524568419, 0.9938787544243339, 0.9722390153468914, 0.987686207617252, 0.9988652014829082, 0.9965494393335796, 0.9920497113975608, 0.34409957974645994, 0.23194981132389092, 0.3628183364497915, 0.0011394025819419203, 0.05990002145066095, 0.9792293170281244, 0.9976959764536613, 0.9924352527720174, 0.9738537498982264, 0.3779998935324898, 0.6168958262450234, 0.9953065244090498, 0.9970810304521095, 0.9981362699778348, 0.7310823190862684, 0.04984652175588194, 0.21911700188523103, 0.9978079437804467, 0.9954585133166647, 0.9465098326300465, 0.05240192845010638, 0.9987788702832106, 0.9975822939465996, 0.996965138321158, 0.9927304825536815, 0.002189329708985635, 0.0767360062999465, 0.9209415420848073, 0.9893441543322267, 0.9909915122515688, 0.9680095022634921, 0.9960331970720796, 0.9985266817676071, 0.9550108586530648, 0.30995686121876165, 0.567494547378468, 0.12193155937649815, 0.9842635321915931, 0.9578930133721058, 0.9925131857226317, 0.9553200587542439, 0.14173277506757162, 0.8503966504054298, 0.9932175315304327, 0.9981591622522857, 0.0011729249850203122, 0.9785314033006381, 0.9961449082867181, 0.9999747362341467, 0.9994832766271933, 0.9885399310507527, 0.9992403353342114, 0.9927766851523392, 0.9967184978447142, 0.9567369251963022, 0.040757851073385074, 0.8817449905763748, 0.9842730061520448, 0.9983005218596768, 0.9995551361455735, 0.9956893167888632, 0.9916757069821313, 0.9806536706481578, 0.018821281567701242, 0.9983585679058785, 0.995186868207779, 0.9969323924757175, 0.9994596084774268, 0.9978483062791297, 0.9429542543808147, 0.9946831203765604, 0.9953035218435764, 0.24389579160015412, 0.2471916806758319, 0.5075669176543748, 0.9977033767822552, 0.9657964688639967, 0.9980094128000648, 0.39231084630618057, 0.6072289621086969, 0.9857982199678952, 0.9974391515998556, 0.820452484325465, 0.17701543326200103, 0.9984594198962141, 0.9925291193909415, 0.9655350347115775, 0.059092646303010816, 0.9376033213411049, 0.41670668072058215, 0.23202985631032416, 0.34567713287048296, 0.7141925370524539, 0.0804965209627466, 0.12616830590614894, 0.07878382902736902, 0.9957826426154188, 0.9945854249073914, 0.9945346545457252, 0.9972024293206079, 0.999308965719405, 0.9989950420154559, 0.33732660386613295, 0.04622623830758118, 0.5447199973541998, 0.006246788960483943, 0.06496660518903301, 0.77613779586273, 0.13721773186523403, 0.08642078304973874, 0.9077703057748588, 0.019215575815672195, 0.05035806075831334, 0.02186600006610974, 0.18485486070915147, 0.5573374050380917, 0.07301766998011483, 0.0822604130155724, 0.10074589908648755, 0.998027068459383, 0.9449269259407372, 0.9955262268116708, 0.9978689391337489, 0.4833304833996551, 0.5153881175026935, 0.9894931996174361, 0.9635715153370156, 0.035133600154084295, 0.7751076438178839, 0.22455233416272294, 0.9966736431158033, 0.9988924295750431, 0.9982817202143869, 0.9920738240144417, 0.9956978935862808, 0.9995068295654035, 0.9991793390312611, 0.998155344459417, 0.9939250649338506, 0.9924120140609971, 0.9993710566469239, 0.9968965751699902, 0.9711037822020061, 0.9533287945228707, 0.04546221129950106, 0.79746246646869, 0.20224900363436302, 0.9954612758890691, 0.9980591611240152, 0.03178415844990051, 0.3033116834933363, 0.6120720798637984, 0.05176277233269512, 0.959859078896154, 0.03910536988095442, 0.989249652065032, 0.9615592790449244, 0.0014138237928378427, 0.9981595977435169, 0.996665339277525, 0.8931224581231851, 0.10448786418154256, 0.11301664771299791, 0.8739954089805172, 0.10186363679764254, 0.8876688349508851, 0.9924466099864909, 0.9945673065940889, 0.983208972203709, 0.992844754914393, 0.9916016944181768, 0.9985698052240071, 0.9503630479676601, 0.11970047050453392, 0.029279251778087434, 0.6191700596601432, 0.2307893963684539, 0.9974201374201187, 0.9985387258316464, 0.9974533832305824, 0.9737476602848242, 0.9934853064511979, 0.9946440175531767, 0.9987140346981689, 0.17002820609598104, 0.8278140943258876, 0.9857297096446227, 0.953896027382073, 0.9986322828018441, 0.9984253407085619, 0.9723229512896444, 0.026791906809358744, 0.9984996475282903, 0.994793684504307, 0.9905550370955454, 0.0069269583013674505, 0.9959380563234937, 0.9951212009250967, 0.9912410182826242, 0.9888524581589669, 0.9361187969367041, 0.9809343338364096, 0.9874860077933717, 0.9967747228148839, 0.9949896362855303, 0.999487074808703, 0.995221825928891, 0.9971535463523624, 0.8882106036223343, 0.11093799902045066, 0.9935763159460492, 0.8224009121573098, 0.17713794367618754, 0.9780390169563674, 0.018503440861336682, 0.8951651113914785, 0.10393906333888454, 0.9917155969375299, 0.7206726096418778, 0.26898343880999664, 0.9917081227301303, 0.967783669589372, 0.06189752572964592, 0.9356602726574383, 0.9984564572312048, 0.9884089932463359, 0.9354195540140263, 0.06338362005340943, 0.9979439277303612, 0.9874248272201871, 0.9984834858355345, 0.2209078403636728, 0.7044618688095003, 0.07329661062757807, 0.9978194176946534, 0.9806363632672506, 0.997503789396415, 0.996121313080283, 0.9987371033099692, 0.9979412675011409, 0.9977967514895136, 0.998367156056534, 0.9878841403992529, 0.998632179300328, 0.9952948146988037, 0.9610797249440385, 0.03815701141217026, 0.26512763671514505, 0.7334668752239342, 0.08654104515707599, 0.9130652121198105, 0.9970804062801167, 0.9953228130913417, 0.9340667470925522, 0.9941183153845599, 0.9994771307935193, 0.9992366798571135, 0.9965162599957598, 0.4581905755805577, 0.5406220576359384, 0.3154570298246963, 0.3167714341156326, 0.3667187971712095, 0.9911820337853052, 0.9944406394345148, 0.9635382149770235, 0.03535920054961554, 0.9964758609353056, 0.9645137229879277, 0.9987223440585911, 0.9888320852515122, 0.9973765241943268, 0.9988730056817992, 0.9934834821572754, 0.9873639840413944, 0.7928436654085277, 0.9991146040328172, 0.9930334734355716, 0.9938853628678267, 0.5690460798620025, 0.4307732006431982, 0.8222476827854991, 0.176482429475912, 0.9996434917742885, 0.9172135949502133, 0.08220310520780214, 0.8303116321888397, 0.027273009816421744, 0.13939538350615557, 0.988446463367392, 0.9990000668621954, 0.9529579313073363, 0.9950342266275025, 0.9624245320754707, 0.9892635495886988, 0.9965812433769903, 0.999388158938425, 0.6202360836383073, 0.37677892931299045, 0.9912694635055113, 0.9990845364562536, 0.9964791482538102, 0.9981756102306824, 0.9977935167356625, 0.9985803141994608, 0.9991327389217235, 0.996749428173825, 0.23593846434470797, 0.7334315691629779, 0.02966083551762043, 0.9973686445479538, 0.9916465953215481, 0.9988629835901647, 0.9995339573927966, 0.0992890157544774, 0.28396658505780537, 0.6155918976777599, 0.38927708445491266, 0.2522515507267834, 0.35813491769851963, 0.9897270319823536, 0.9839292407699017, 0.9981599817340234, 0.9969542031471059, 0.5332068809767359, 0.21000388138029566, 0.11293889035817635, 0.023420507217133346, 0.07858881310638077, 0.019777317205579268, 0.022119367927292605, 0.9794079849246266, 0.9825683979001191, 0.9967535709811478, 0.9944739481607537, 0.7822118386542262, 0.6512864271180367, 0.343150913212729, 0.4418270935278082, 0.5579483168267835, 0.6957914969362725, 0.3036000093927942, 0.9954397605305105, 0.0017311995835313225, 0.998057231223738, 0.9864139424124082, 0.9891278083129933, 0.9990540597966822, 0.9901004796199238, 0.31404537795290505, 0.6820673052414656, 0.9982417568458652, 0.9994861725684318, 0.9828281274723119, 0.9953886324647404, 0.9971449467001411, 0.9888016952674944, 0.9690652090736535, 0.9903499497437658, 0.9932712188401204, 0.9490471728539864, 0.05082329122387468, 0.9879629635990161, 0.9974187972541592, 0.9936076201139143, 0.5330176079055087, 0.3905324391847644, 0.07597631089594507, 0.9998813823211987, 0.9975667006779074, 0.9989163403853986, 0.9881907576875274, 0.008988824380373635, 0.00275463972946934, 0.7037431333292, 0.11170525925860318, 0.18407084025656784, 0.9994678968371081, 0.181241204199508, 0.8165196519091237, 0.6150562367707381, 0.38427078478606835, 0.9983683830835711, 0.9994675036522362, 0.997778709745723, 0.9628832058907696, 0.9421196060592438, 0.0540302446682083, 0.0031473928932936874, 0.9870756345669435, 0.01193080944279142, 0.9984760679446455, 0.9941238941176639, 0.018672070623547178, 0.8810883325486325, 0.0863583266339057, 0.012837048553688685, 0.9970614160732628, 0.9973202211897315, 0.9993326809916967, 0.993554768463423, 0.5070206836528468, 0.4927475486043982, 0.9895100114677178, 0.7383614311802681, 0.2611170652680518, 0.9855754430156368, 0.4989805479204539, 0.4989805479204539, 0.9922310325977187, 0.9923093945388759, 0.990578274326357, 0.9970217129485468, 0.9918622380121231, 0.9998520661481854, 0.9524739911924944, 0.790207859881991, 0.13490152872751748, 0.07434354320385088, 0.993697991683838, 0.9978580310604882, 0.9917105470765475, 0.9916317934349499, 0.9985411820164052, 0.8702061314038216, 0.9987459127361727, 0.9987553408744171, 0.9857808027696067, 0.9507021210693789, 0.9626621939177006, 0.031386997972664595, 0.005741524019389864, 0.9871072214369838, 0.011997988326858366, 0.515827119951785, 0.4783124203189279, 0.898523029913135, 0.99943593565382, 0.974648453174217, 0.024877811484891498, 0.9915478881884796, 0.9907938037035918, 0.9979672293760748, 0.982605969648986, 0.9900441793750601, 0.9969396543708943, 0.9976806468801321, 0.9875671267437314, 0.9940507152216569, 0.9592288291326948, 0.5019171985895192, 0.010413219887749361, 0.48733869074667013, 0.9974343328793097, 0.41190847605212927, 0.583008919950706, 0.9984241234631306, 0.9930499212356847, 0.9984013363635279, 0.8473456101862606, 0.15199703734568798, 0.9806834904021116, 0.5033502852180818, 0.49448848442198884, 0.9661141307028577, 0.9981442342053531, 0.13302114812775165, 0.8566561939427206, 0.9928080553952897, 0.9993888679829143, 0.10187190179095248, 0.8970386907703316, 0.6597802112414355, 0.33961475726033075, 0.973600203696608, 0.984949560184961, 0.8838241655863718, 0.1091307277629514, 0.006848739088004151, 0.34586538029913405, 0.6518232167175988, 0.02895716723358836, 0.5853484519361075, 0.38264828130098905, 0.9993974915693656, 0.880325239977137, 0.11244711067302396, 0.006563060934223188, 0.9966782570769191, 0.9994262304827323, 0.2653743997308322, 0.6607122151656204, 0.07315306033635845, 0.14854870935992484, 0.23086945246354984, 0.521777341626736, 0.0984135199509502, 0.9098125918326523, 0.08985245944153737, 0.8673133312706337, 0.13221239805954782, 0.9709113654693302, 0.02841396897699783, 0.47134425972690847, 0.527323387960508, 0.9978958268486199, 0.056210389175025556, 0.03700073987756677, 0.9067545534532776, 0.9995786497617413, 0.9479027689469166, 0.05148507425244674, 0.9676068992197397, 0.9981826254643692, 0.9729294049688182, 0.8578081562510554, 0.14177463684282887, 0.7019285240552459, 0.2968241439370619, 0.18537622707558407, 0.42651603465357957, 0.01607598717186637, 0.37175720334940976, 0.910101989725808, 0.9203915754565634, 0.07870713297970612, 0.9894310082635012, 0.9895165134696278, 0.9996925732195283, 0.9988323499841996, 0.9728112568161762, 0.9994630965674601, 0.6197155530559423, 0.3489556080875591, 0.029487524870895346, 0.0015519749932050182, 0.9723856395639591, 0.008248323050024159, 0.019246087116723036, 0.19886248699640702, 0.6195331325657295, 0.17846633448395502, 0.12166780860840205, 0.7453389738734223, 0.11523820896649463, 0.01755775286828566, 0.9953925283196541, 0.9950985487375562, 0.9303475822575633, 0.9944015811416654, 0.9864887493479975, 0.9969721288500426, 0.9270399609779253, 0.9985705104588352, 0.9994494073839938, 0.9878851015108698, 0.011656461374759525, 0.9946741369799437, 0.9888110645700471, 0.9986785676325971, 0.9992965395076651, 0.9951871672981163, 0.9973666225936041, 0.4644336912320849, 0.38301902025912976, 0.1517273413586891, 0.994118342828353, 0.9988316051003183, 0.17485077049784511, 0.822170644255825, 0.9973990222230915, 0.9959473086219612, 0.9956478675477003, 0.9982251121688355, 0.3631083143618047, 0.47456877794754854, 0.16087077218560966, 0.9988917429193124, 0.9963967665585669, 0.9985722349555068, 0.995911730016666, 0.9982803634840575, 0.9939566990223546, 0.990251650799137, 0.9977514665554341, 0.9969354348151211, 0.9971316163477988, 0.9978046148980745, 0.9564426789399769, 0.9624369797908842, 0.9358581005562245, 0.05881936434472343, 0.0052517289593503064, 0.5552862640893472, 0.4421068981603083, 0.9926542988217335, 0.9983150087008283, 0.5022492961103414, 0.3261411164039198, 0.17149486748176593, 0.005143694078368984, 0.3129080564341132, 0.6009549248227763, 0.07972725821471925, 0.9990212351231291, 0.4422499267641085, 0.0004760494367751437, 0.41154473809211173, 0.10258865362504348, 0.018327903315843032, 0.024754570712307473, 0.19013093208917128, 0.25228912142601573, 0.5566814309726217, 0.9959495798965927, 0.9984006278861305, 0.999840189827031, 0.9916098000884781, 0.9976199134450199, 0.9934851787113022, 0.9984452275047618, 0.9930360473251613, 0.9960151471238071, 0.035558575186202444, 0.5595157001521256, 0.3899286492640832, 0.008205825042969794, 0.006382308366754285, 0.9971616923729464, 0.33268047507364534, 0.6621925646703989, 0.976278302930309, 0.9907160393314959, 0.994876166115095, 0.9946642416088493, 0.11821169118758189, 0.8801631354727565, 0.998343515774275, 0.9955111015089468, 0.9837436934325319, 0.8550141912425288, 0.033213647828511106, 0.11150296056714443, 0.9779300079129861, 0.12008436953199222, 0.5777031831539086, 0.3018336855804129, 0.9755880488416521, 0.997919340852184, 0.9632888568383544, 0.9683953795579274, 0.9963363328858722, 0.9679167622481627, 0.02768413026571316, 0.9721841915650973, 0.9951196509313586, 0.9984451398404472, 0.9913091932787452, 0.9957219666769992, 0.998487045916153, 0.9817129119296282, 0.01651004897164963, 0.992353685472311, 0.9970175540666544, 0.9961401380705375, 0.8887905496671715, 0.9950505840278349, 0.9539710949179644, 0.9911972246081839, 0.9932386891980335, 0.9983519176882548, 0.9986869683116706, 0.9984858547532243, 0.9816615928711123, 0.018204851223002083, 0.9954058886132581, 0.9977995726608287, 0.999071424384066, 0.8153666801485756, 0.18411505680774287, 0.9983575846696459, 0.99238355565738, 0.6235098804308595, 0.37522182961051725, 0.9979175130580714, 0.9989314762744528, 0.9959764011204284, 0.9946276907689631, 0.9961576906975965, 0.9850012652460974, 0.9991184798829942, 0.998775656840996, 0.9892548664030213, 0.8590499107678188, 0.06194824311641063, 0.0020563732154825105, 0.07685694892865884, 0.9974158241004935, 0.9693302822711408, 0.974300134978948, 0.9975726047396246, 0.9818117022548388, 0.22146535665196326, 0.24835757853113022, 0.529934960560055, 0.9423853378749105, 0.9869598349663145, 0.012279438071120554, 0.9733496252959771, 0.9943714720867807, 0.9983530229670402, 0.9985903830843018, 0.9976845682361983, 0.4633000466297291, 0.5348270713725645, 0.9883482573245995, 0.9462815808333929, 0.011965625890411712, 0.04138112287100717, 0.99219269328329, 0.46960764630949686, 0.05682085400186083, 0.47318879257011837, 0.9962354426547185, 0.9934213656953542, 0.9970454212855046, 0.9984909814546284, 0.9954195517987807, 0.9995954641643023, 0.9888280040851976, 0.6050641167254278, 0.3911307325975087, 0.9980807618537378, 0.9953287786024079, 0.7541543941731041, 0.24436287632424603, 0.9991023865403329, 0.43030316276028996, 0.428800357768112, 0.07964866458543202, 0.060613134684511155, 0.9917219036089026, 0.9918835902189782, 0.5838015318754508, 0.41549279236667724, 0.997718084778139, 0.8720560513220127, 0.07882992554323279, 0.04434183311806844, 0.04539799664108054, 0.9533579294626914, 0.9742186390129975, 0.025057063760622365, 0.9854878204858536, 0.7243874703515699, 0.27530628927108186, 0.9938329227975379, 0.9835020763724106, 0.9614779919868829, 0.9879376984749063, 0.9937302158318655, 0.7157643146350132, 0.28307063290650236, 0.977007310651133, 0.8070100991528183, 0.9992442549188718, 0.5419371782839947, 0.457717211388509, 0.9975119109530993, 0.993950230212108, 0.00574537705324918, 0.9997488218441296, 0.9926021294666688, 0.9749488165805695, 0.20597800967382118, 0.7931252899184147, 0.9870212470150718, 0.9625640442424369, 0.9975749949414897, 0.9919532034342742, 0.9979315624909079, 0.06451985215474995, 0.934616144070235, 0.958109978176359, 0.9944137166332626, 0.9942322414417339, 0.9989124889195796, 0.9354946752094793, 0.9991595629775925, 0.9972608065531402, 0.9877135385571635, 0.017098284597035385, 0.969411671349774, 0.0015266325533067307, 0.011602407405131153, 0.6269756050985448, 0.16328925099819241, 0.02135850962423614, 0.18740369734813644, 0.9906001972294837, 0.9977857942877219, 0.10707214294326543, 0.5327060334863288, 0.13184916775658306, 0.22653279829318967, 0.9970375043240531, 0.30193978853745457, 0.2180676250548283, 0.3322935238930717, 0.03275008288369216, 0.1142258988382434, 0.9963267752951831, 0.9982655123375841, 0.9877820490523143, 0.9978351560017358, 0.9940627783074214, 0.35297942452083164, 0.6466643872054288, 0.9920234728208069, 0.9932100051287697, 0.4820672178991212, 0.5153132329266469, 0.8399824030428381, 0.1570401883949654, 0.9409004649518188, 0.9917631922412665, 0.9927145759391248, 0.9945099307098457, 0.9969778266418224, 0.9936212819340999, 0.9990641462730949, 0.07332694669726136, 0.30404604258153145, 0.42124643437380693, 0.193902218881461, 0.007056568092205068, 0.999777808259979, 0.7625001673439832, 0.23597002869305717, 0.9984498926836538, 0.9936293247579309, 0.9973316174481823, 0.9948724995388862, 0.4216899469130406, 0.5781751519173017, 0.9956187131114717, 0.5582768466315936, 0.43895049773323774, 0.9987211246045998, 0.9957347160146528, 0.997063774351809, 0.9985822813074325, 0.9948223937521002, 0.9975879115887699, 0.9983050070187364, 0.9970633894682661, 0.9982433473789055, 0.9967568655873812, 0.9986751438178543, 0.7699265291193338, 0.20406728470016383, 0.02572813847825088, 0.7932561307460588, 0.20572356797370317, 0.9994393686233096, 0.9991108850033098, 0.9845103833309132, 0.9916647651791138, 0.9975259036783752, 0.06874810332043128, 0.9172003052750223, 0.012575872558615479, 0.9938261430039023, 0.09672445472216191, 0.9027615774068446, 0.985904570002139, 0.9893202234916968, 0.9862377070326513, 0.9916320676543325, 0.9974043791406255, 0.05798275070076129, 0.9385957769685733, 0.9220637811228956, 0.9867729624662624, 0.040027517103375654, 0.025133557250956805, 0.6022745015321871, 0.31556577437312433, 0.015824832343195025, 0.9984308966496984, 0.9979646763777329, 0.9926116031931025, 0.987694877651128, 0.9978721733959315, 0.9987754440994825, 0.9983250702361445, 0.13991492965376934, 0.8597404230040827, 0.9919951100542816, 0.9973126772531078, 0.9989995670833084, 0.9989775611378134, 0.5463232781142273, 0.4516272432410946, 0.9951211168526947, 0.5672906966559325, 0.07771105433642911, 0.35455668540995783, 0.9700327568335446, 0.02928962776518891, 0.9849275265887085, 0.9432979378768253, 0.9991266441996721, 0.9940417611276727, 0.9985014728084156, 0.9886793014148634, 0.9959904093342629, 0.9940496283643414, 0.8675706727360661, 0.13204405007160103, 0.996369209441592, 0.9924501308266013, 0.9878859258766336, 0.10416487947745105, 0.89422900771744, 0.7282053921295951, 0.26684238684200917, 0.9446707462844035, 0.05482261884911886, 0.9947135891039387, 0.9994707685888854, 0.9940562941493377, 0.9904475205686135, 0.9281827846022072, 0.07134267677726769, 0.9966683862656907, 0.9835718367069841, 0.2569434181098538, 0.7394260587828017, 0.9985878920996716, 0.9954893287304964, 0.9784962529153751, 0.9981625972387358, 0.99237974442822, 0.27157448964381303, 0.3315853319246556, 0.39617327234556243, 0.8515794038575972, 0.0913836812177242, 0.05643215374002889, 0.9901463784409816, 0.6787427314261123, 0.009394363064721276, 0.31001398113580214, 0.9996621242085788, 0.9977212503792166, 0.9789881849520713, 0.7948464226115575, 0.20486592834765077, 0.999057305314997, 0.9983642755780093, 0.9849787676111202, 0.9951252040212475, 0.9992926946625049, 0.22735303454613415, 0.4539726722066356, 0.2618226881708706, 0.05647156019371719, 0.9774778932274127, 0.8016659908078511, 0.19799653999096212, 0.27808571698238455, 0.7138916913577632, 0.9990033980567744, 0.9839296542252919, 0.7633744170388516, 0.1261840122417104, 0.8736311459795972, 0.9921517940070748, 0.712580560664992, 0.2871625099481044, 0.7523461263694823, 0.24753124300984672, 0.9910180245259828, 0.8276323137502374, 0.09924337107755173, 0.06827702241560636, 0.004682716139123445, 0.9764316434412275, 0.9842905770895168, 0.9974264175521179, 0.9972481699189557, 0.18625500811677753, 0.2289384474768724, 0.1261101617457348, 0.3996722049172518, 0.058204690036492986, 0.9913372259893932, 0.9975502932099188, 0.9959450590686594, 0.9930522953765865, 0.9971829467757384, 0.9972465703183574, 0.993772697049723, 0.9992940977967322, 0.9956268098884843, 0.9991310660526265, 0.7628626348078045, 0.1182999870298161, 0.11852969574249536, 0.9741662780450238, 0.9958134901612208, 0.9973470003128332, 0.9470504815722519, 0.9987839644087753, 0.9817364397181202, 0.9983072088149509, 0.9975472953190996, 0.00811356473053661, 0.9912867026661495, 0.9943988186346652, 0.9962618455466714, 0.7202440009896658, 0.27615573094940554, 0.004911872550620136, 0.07399498326256786, 0.2972475130633347, 0.0009506850097974457, 0.6228571289189598, 0.9937784069236906, 0.9405878637357316, 0.024367561236676983, 0.033139883281880694, 0.997723339210827, 0.9994216405147712, 0.7946273690841763, 0.20221700073468288, 0.9595543578524297, 0.9243987423551778, 0.07484011170313272, 0.9951092152889723, 0.9982712814126458, 0.9968704017540924, 0.8614370937447348, 0.9965139702282174, 0.9968981848123922, 0.9877647592396537, 0.9917298443996903, 0.9872911578239429, 0.8380070715042004, 0.9485545066045246, 0.020783402861624112, 0.030343768177971204, 0.15018717692382744, 0.8486304560161899, 0.9965051392090062, 0.9956606401326786, 0.9968571919911728, 0.5952962190311298, 0.3824340819322066, 0.018617025689368415, 0.003588824229275839, 0.9969087328888292, 0.980522466212029, 0.01799841717707635, 0.9976824285062295, 0.8899206886911979, 0.10983198373087569, 0.9556598316856962, 0.998320852725923, 0.9936676193786645, 0.9987155869155985, 0.9995107869735799, 0.9972260806572041, 0.9978162436814241, 0.9973257718742861, 0.8857058161997233, 0.11337034447356459, 0.9985143145050615, 0.9597902983930009, 0.039720441242750225, 0.633256096512265, 0.27937171811506145, 0.08040058166683454, 0.006903080244122158, 0.9843589323608084, 0.014646382130600993, 0.9980244633394976, 0.0364261291509497, 0.11366161461209201, 0.8498170587187331, 0.6837181944878826, 0.006974623046081011, 0.024821452605170657, 0.23426527995954455, 0.0073848949899681295, 0.03897583466927624, 0.0038975834669276238, 0.9925378834067959, 0.37208614459902306, 0.47914250900997, 0.14752889241996353, 0.9948247757344221], \"Term\": [\"abstract\", \"accept\", \"access_digex\", \"acquire\", \"act\", \"addition\", \"address\", \"advance\", \"advanced\", \"affiliate\", \"aged\", \"agree\", \"air\", \"algorithm\", \"also\", \"also\", \"also\", \"also\", \"also\", \"amanda_walker\", \"amount\", \"amp\", \"amplifier\", \"analysis\", \"analysis\", \"animal\", \"announcement\", \"anyway\", \"application\", \"application\", \"application\", \"appreciate\", \"arab\", \"area\", \"area\", \"argument\", \"arm\", \"armenian\", \"army\", \"article\", \"article\", \"article\", \"assure\", \"astronomy\", \"atf\", \"atheism\", \"atheist\", \"atom\", \"attack\", \"attack\", \"attack\", \"au\", \"australian\", \"auto\", \"automate\", \"automatic\", \"automatic\", \"automatically\", \"available\", \"available\", \"ave\", \"average\", \"ax\", \"back\", \"backup\", \"bad\", \"band\", \"baseball\", \"bear\", \"bear\", \"bearing\", \"beautiful\", \"belief\", \"believe\", \"benefit\", \"bias\", \"big\", \"big\", \"bike\", \"bill\", \"birth\", \"bit\", \"black\", \"black_hole\", \"blank\", \"blind\", \"block\", \"block\", \"block\", \"board\", \"bogus\", \"bomb\", \"book\", \"book\", \"bounce\", \"box\", \"boy\", \"boy\", \"brain\", \"brave\", \"brick\", \"bus\", \"bus\", \"button\", \"button\", \"button\", \"buy\", \"buy\", \"buy\", \"buy\", \"cable\", \"cambridge\", \"camp\", \"capture\", \"car\", \"card\", \"carry\", \"carry\", \"carry\", \"carry\", \"carry\", \"case\", \"case\", \"case\", \"cause\", \"cause\", \"cause\", \"cause\", \"center\", \"center\", \"center\", \"center\", \"center\", \"certainly\", \"chamber\", \"channel\", \"character\", \"cheap\", \"cheap\", \"chief\", \"child\", \"child\", \"chip\", \"chip\", \"choice\", \"christian\", \"church\", \"circuit\", \"civilian\", \"claim\", \"clear\", \"clipper\", \"clock\", \"co\", \"code\", \"color\", \"colt\", \"com\", \"com\", \"come\", \"come\", \"communication\", \"community\", \"company\", \"company\", \"company\", \"company\", \"compare\", \"compare\", \"compression\", \"comprise\", \"computer\", \"computer\", \"computer_science\", \"concept\", \"concept\", \"conduct\", \"conduct\", \"conference\", \"conference\", \"connector\", \"consequence\", \"conservative\", \"constitution\", \"consult\", \"contain\", \"contemporary\", \"control\", \"control\", \"control\", \"control\", \"controller\", \"convert\", \"convince\", \"convincing\", \"cool\", \"cop\", \"copy\", \"corporation\", \"corporation\", \"correction\", \"cosmic\", \"country\", \"couple\", \"cover\", \"cover\", \"cpu\", \"crash\", \"crime\", \"crime\", \"criminal\", \"criticism\", \"crypto\", \"cs_dept\", \"cubic\", \"custom\", \"customer\", \"cycle\", \"cylinder\", \"d\", \"dangerous\", \"date\", \"datum\", \"datum\", \"daughter\", \"day\", \"day\", \"dealer\", \"dealer\", \"death\", \"death\", \"decent\", \"default\", \"default\", \"definitely\", \"delaware\", \"department\", \"department\", \"dept\", \"desert\", \"design\", \"design\", \"device\", \"diagnostic\", \"die\", \"difference\", \"difference\", \"difference\", \"digital\", \"digital_equipment\", \"direct\", \"disagree\", \"discussion\", \"disease\", \"disk\", \"display\", \"distant\", \"distribution\", \"distribution_usa\", \"distribution_world\", \"distribution_world\", \"division\", \"division\", \"do\", \"do\", \"dog\", \"door\", \"dram\", \"dream\", \"drive\", \"driver\", \"dual\", \"earth\", \"earth\", \"effect\", \"effect\", \"effect\", \"electrical\", \"element\", \"email\", \"email\", \"enable\", \"enclose\", \"encryption\", \"enemy\", \"engine\", \"entry\", \"environmental\", \"era\", \"eric_bosco\", \"error\", \"escape\", \"ethnic\", \"even\", \"even\", \"event\", \"event\", \"evidence\", \"exist\", \"exist\", \"expensive\", \"expensive\", \"expensive\", \"experiment\", \"explain\", \"explode\", \"export\", \"extended\", \"extension\", \"external\", \"fact\", \"factor\", \"factor\", \"factory\", \"faith\", \"false\", \"family\", \"fan\", \"faq\", \"fast\", \"father\", \"fax\", \"fax\", \"fax\", \"feature\", \"fi\", \"field\", \"file\", \"final\", \"final\", \"final\", \"find\", \"find\", \"find\", \"finger\", \"finland\", \"fire\", \"firearm\", \"first\", \"first\", \"first\", \"first\", \"first\", \"first\", \"first\", \"fish\", \"flag\", \"flight\", \"floppy\", \"floppy_burn\", \"focus\", \"focus\", \"follow\", \"follow\", \"force\", \"force\", \"forget\", \"forget\", \"format\", \"forsale\", \"french\", \"friend\", \"ftp_site\", \"fuel\", \"fuel\", \"function\", \"game\", \"garage\", \"gas\", \"gateway\", \"gear\", \"generic\", \"genocide\", \"german\", \"get\", \"get\", \"giant\", \"gif\", \"girl\", \"give\", \"give\", \"give\", \"go\", \"goal\", \"god\", \"good\", \"good\", \"good\", \"government\", \"government\", \"government\", \"graphic\", \"ground\", \"ground\", \"group\", \"group\", \"guess\", \"gun\", \"guy\", \"handy\", \"happen\", \"happen\", \"happen\", \"hard\", \"hard\", \"hardware\", \"hatred\", \"head\", \"head\", \"head\", \"head\", \"headache\", \"health\", \"hear\", \"heat\", \"help\", \"help\", \"hence\", \"high\", \"high\", \"hire\", \"hit\", \"hit\", \"hitler\", \"hitter\", \"holocaust\", \"homosexual\", \"honor\", \"host\", \"host_slc\", \"however\", \"however\", \"however\", \"hr\", \"human\", \"human_being\", \"icon\", \"ide\", \"ie\", \"ill\", \"image\", \"implementation\", \"inability\", \"include\", \"include\", \"include\", \"increase\", \"increase\", \"industry\", \"industry\", \"infinity\", \"info\", \"information\", \"information\", \"informed\", \"inhabitant\", \"input\", \"ins_cwru\", \"insert\", \"insist\", \"instal\", \"instrument\", \"intention\", \"interactive\", \"interested\", \"interested\", \"interested\", \"internal\", \"international\", \"international\", \"internet\", \"invasion\", \"israeli\", \"issue\", \"issue\", \"jet_propulsion\", \"jewish\", \"jewish\", \"jim_frost\", \"job\", \"joke\", \"joke\", \"joy\", \"key\", \"keyword\", \"keyword\", \"kill\", \"kill\", \"kinda\", \"km\", \"know\", \"know\", \"know\", \"lab\", \"lab\", \"land\", \"land\", \"land\", \"large\", \"last\", \"last\", \"last\", \"launch\", \"law\", \"lead\", \"lead\", \"lead\", \"less\", \"less\", \"less\", \"less\", \"let\", \"let\", \"lie\", \"lie\", \"life\", \"life\", \"light\", \"light\", \"limit\", \"line\", \"line\", \"line\", \"list\", \"little\", \"little\", \"loaded\", \"local\", \"login\", \"look\", \"look\", \"lose\", \"lose\", \"lot\", \"lot\", \"lot\", \"lot\", \"louisiana_tech\", \"low\", \"low\", \"lunar\", \"luxury\", \"m\", \"machine\", \"macintosh\", \"mail\", \"make\", \"make\", \"make\", \"make\", \"man\", \"man\", \"man\", \"manual\", \"manual\", \"manual\", \"many\", \"many\", \"many\", \"many\", \"map\", \"mar\", \"mario\", \"mass\", \"massacre\", \"master\", \"mathew\", \"matter\", \"maybe\", \"mean\", \"mean\", \"medical\", \"medicine\", \"memory\", \"message\", \"met\", \"mile\", \"military\", \"military\", \"military\", \"militia\", \"mind\", \"minor\", \"minor\", \"miss\", \"mission\", \"mit\", \"mode\", \"model\", \"model\", \"model\", \"money\", \"monitor\", \"month\", \"moon\", \"moral\", \"morality\", \"moslem\", \"mother\", \"motherboard\", \"motif\", \"mount\", \"mozumder\", \"ms_do\", \"much\", \"much\", \"much\", \"murder\", \"murder\", \"mystery\", \"nature\", \"need\", \"need\", \"need\", \"net\", \"net\", \"net\", \"net\", \"network\", \"new\", \"new\", \"new\", \"new\", \"new\", \"new\", \"news\", \"news\", \"news\", \"nhl\", \"nice\", \"nntp_poste\", \"noise\", \"normal\", \"north\", \"notice\", \"ns\", \"nuclear\", \"number\", \"number\", \"number\", \"number\", \"number\", \"object\", \"objective\", \"objective\", \"observer\", \"occupation\", \"occupy\", \"offense\", \"offer\", \"offer\", \"office\", \"oil\", \"okay\", \"old\", \"old\", \"old\", \"online_communication\", \"opinion\", \"opinion\", \"opinion\", \"opinions_expressed\", \"option\", \"oracle\", \"oracle_corporation\", \"orbit\", \"organisation\", \"organization\", \"organization\", \"origin\", \"originator\", \"ozone\", \"pack\", \"package\", \"page\", \"page\", \"panel\", \"paper\", \"parent\", \"parity\", \"park\", \"partly\", \"past\", \"pat\", \"patient\", \"pay\", \"peace\", \"people\", \"people\", \"percent\", \"period\", \"person\", \"phone\", \"phone\", \"physical\", \"physician\", \"pick\", \"pick\", \"picture\", \"pin\", \"pitch\", \"plane\", \"planet\", \"planetary\", \"play\", \"player\", \"please_respond\", \"point\", \"point\", \"point\", \"point\", \"police\", \"political_atheist\", \"porsche\", \"port\", \"positively\", \"post\", \"post\", \"post\", \"pov\", \"power\", \"power\", \"powerbook\", \"predict\", \"pretty\", \"price\", \"printer\", \"private\", \"private\", \"probability\", \"probably\", \"probably\", \"probably\", \"probe\", \"problem\", \"problem\", \"problem\", \"procedure\", \"proceed\", \"processor\", \"product\", \"production\", \"program\", \"programmer\", \"project\", \"project\", \"proof\", \"proposal\", \"protect\", \"protect\", \"prove\", \"provide\", \"provide\", \"provide\", \"provide\", \"pt\", \"pub\", \"public\", \"public\", \"publish\", \"pull\", \"pull\", \"pull\", \"purchase\", \"purchase\", \"put\", \"put\", \"qualified\", \"question\", \"question\", \"quick\", \"quit\", \"radar\", \"radiation\", \"radius\", \"rate\", \"rate\", \"ratio\", \"rayshade\", \"re\", \"read\", \"read\", \"reality\", \"really\", \"really\", \"reason\", \"rebel\", \"reboot\", \"receive\", \"receive\", \"receiver\", \"recognition\", \"recommend\", \"recover\", \"reduce\", \"reference\", \"reference\", \"refresh\", \"register\", \"registration\", \"religion\", \"reload\", \"remember\", \"replace\", \"replacement\", \"reply\", \"reply\", \"reply\", \"reply\", \"report\", \"report\", \"report\", \"report\", \"reproduce\", \"request\", \"research\", \"research\", \"research\", \"research\", \"respect\", \"result\", \"result\", \"result\", \"result\", \"result\", \"resurrection\", \"review\", \"revolver\", \"ride\", \"rider\", \"right\", \"right\", \"ring\", \"rise\", \"risk\", \"risk\", \"road\", \"road\", \"robotic\", \"rock\", \"rocket\", \"roman\", \"route\", \"row\", \"rule\", \"run\", \"run\", \"run\", \"run\", \"run\", \"s\", \"safety\", \"safety\", \"sale\", \"san_jose\", \"satellite\", \"saturn\", \"say\", \"say\", \"sc\", \"school\", \"school\", \"science\", \"scientific\", \"score\", \"screen\", \"screw\", \"scsi\", \"season\", \"secret\", \"section\", \"secure\", \"security\", \"see\", \"see\", \"see\", \"self\", \"self\", \"send\", \"sense\", \"sensor\", \"serial\", \"server\", \"service\", \"service\", \"service\", \"session\", \"set\", \"set\", \"severe\", \"shareware\", \"sharp\", \"shuttle\", \"sign\", \"signal\", \"signal\", \"signing\", \"silver\", \"single\", \"single\", \"single\", \"single\", \"single\", \"situation\", \"size\", \"sky\", \"slaughter\", \"slow\", \"small\", \"society\", \"software\", \"software\", \"solar\", \"soldier\", \"solution\", \"soon\", \"sorry\", \"sorry\", \"soul\", \"sound\", \"sound\", \"sound\", \"source\", \"source\", \"soviet\", \"soviet_union\", \"space\", \"spacecraft\", \"speak\", \"speaker\", \"specifically\", \"specify\", \"speed\", \"speed\", \"sport\", \"stable\", \"staff\", \"standard\", \"standard\", \"star\", \"star\", \"start\", \"start\", \"stat\", \"state\", \"step\", \"stereo\", \"still\", \"still\", \"straight\", \"stream\", \"student\", \"student\", \"study\", \"stupid\", \"summarize\", \"sun\", \"super\", \"support\", \"support\", \"support\", \"sure\", \"sure\", \"sure\", \"suspension\", \"switch\", \"switch\", \"switch\", \"system\", \"table\", \"tail\", \"take\", \"take\", \"talk\", \"tape\", \"tar\", \"teaching\", \"team\", \"technology\", \"technology\", \"technology\", \"technology\", \"television\", \"tell\", \"tell\", \"terrorism\", \"terrorism\", \"test\", \"testing\", \"tga\", \"thank\", \"thank\", \"thermal\", \"thing\", \"thing\", \"think\", \"think\", \"throat\", \"time\", \"time\", \"time\", \"time\", \"timing\", \"tip\", \"tool\", \"topic\", \"total\", \"total\", \"total\", \"total\", \"total\", \"trace\", \"trade\", \"transfer\", \"translate\", \"treatment\", \"trial\", \"troop\", \"true\", \"trust\", \"truth\", \"try\", \"try\", \"try\", \"turbo\", \"turk\", \"turkish\", \"turning\", \"understand\", \"unique\", \"unit\", \"universe\", \"university\", \"university\", \"up\", \"upgrade\", \"usa\", \"usa\", \"use\", \"use\", \"use\", \"use\", \"use\", \"usenet\", \"user\", \"user\", \"user\", \"various\", \"ve\", \"vehicle\", \"vehicle\", \"verification\", \"version\", \"version\", \"version_pl\", \"video\", \"village\", \"viola\", \"violence\", \"visit\", \"vol\", \"volt\", \"voltage\", \"volvos\", \"want\", \"want\", \"want\", \"war\", \"war\", \"warranty\", \"waste\", \"wave\", \"way\", \"way\", \"way\", \"way\", \"weapon\", \"week\", \"week\", \"weight\", \"well\", \"well\", \"western_digital\", \"white\", \"widget\", \"win\", \"window\", \"wing\", \"wire\", \"withdraw\", \"woman\", \"woman\", \"wonder\", \"word\", \"word\", \"work\", \"work\", \"work\", \"work\", \"world\", \"world\", \"worth\", \"write\", \"write\", \"write\", \"year\", \"year\", \"year\", \"year\", \"year\", \"year\", \"year\", \"yesterday\", \"young\", \"young\", \"young\", \"zone\"]}, \"R\": 30, \"lambda.step\": 0.01, \"plot.opts\": {\"xlab\": \"PC1\", \"ylab\": \"PC2\"}, \"topic.order\": [7, 2, 18, 13, 6, 12, 1, 20, 11, 8, 4, 19, 16, 14, 10, 17, 5, 9, 3, 15]};\n",
       "\n",
       "function LDAvis_load_lib(url, callback){\n",
       "  var s = document.createElement('script');\n",
       "  s.src = url;\n",
       "  s.async = true;\n",
       "  s.onreadystatechange = s.onload = callback;\n",
       "  s.onerror = function(){console.warn(\"failed to load library \" + url);};\n",
       "  document.getElementsByTagName(\"head\")[0].appendChild(s);\n",
       "}\n",
       "\n",
       "if(typeof(LDAvis) !== \"undefined\"){\n",
       "   // already loaded: just create the visualization\n",
       "   !function(LDAvis){\n",
       "       new LDAvis(\"#\" + \"ldavis_el245591406190591073121394701805\", ldavis_el245591406190591073121394701805_data);\n",
       "   }(LDAvis);\n",
       "}else if(typeof define === \"function\" && define.amd){\n",
       "   // require.js is available: use it to load d3/LDAvis\n",
       "   require.config({paths: {d3: \"https://d3js.org/d3.v5\"}});\n",
       "   require([\"d3\"], function(d3){\n",
       "      window.d3 = d3;\n",
       "      LDAvis_load_lib(\"https://cdn.jsdelivr.net/gh/bmabey/pyLDAvis@3.3.1/pyLDAvis/js/ldavis.v3.0.0.js\", function(){\n",
       "        new LDAvis(\"#\" + \"ldavis_el245591406190591073121394701805\", ldavis_el245591406190591073121394701805_data);\n",
       "      });\n",
       "    });\n",
       "}else{\n",
       "    // require.js not available: dynamically load d3 & LDAvis\n",
       "    LDAvis_load_lib(\"https://d3js.org/d3.v5.js\", function(){\n",
       "         LDAvis_load_lib(\"https://cdn.jsdelivr.net/gh/bmabey/pyLDAvis@3.3.1/pyLDAvis/js/ldavis.v3.0.0.js\", function(){\n",
       "                 new LDAvis(\"#\" + \"ldavis_el245591406190591073121394701805\", ldavis_el245591406190591073121394701805_data);\n",
       "            })\n",
       "         });\n",
       "}\n",
       "</script>"
      ],
      "text/plain": [
       "PreparedData(topic_coordinates=              x         y  topics  cluster       Freq\n",
       "topic                                                \n",
       "6     -0.326618 -0.134139       1        1  24.194822\n",
       "1     -0.333223 -0.125185       2        1  21.307463\n",
       "17    -0.285771 -0.060444       3        1  12.397923\n",
       "12    -0.134102  0.078555       4        1   6.883956\n",
       "5     -0.163779  0.054228       5        1   6.568507\n",
       "11    -0.089428  0.385760       6        1   6.538341\n",
       "0      0.061980  0.063417       7        1   4.526611\n",
       "19     0.015075  0.118147       8        1   3.138699\n",
       "10     0.007002 -0.035352       9        1   2.094804\n",
       "7      0.057253 -0.007319      10        1   2.041686\n",
       "3      0.065142 -0.025804      11        1   1.733381\n",
       "18     0.038377 -0.020874      12        1   1.557127\n",
       "15     0.067941 -0.000253      13        1   1.385751\n",
       "13     0.067934 -0.009746      14        1   1.379848\n",
       "9      0.098342  0.002402      15        1   1.221716\n",
       "16     0.116849 -0.026357      16        1   1.187291\n",
       "4      0.161398 -0.048280      17        1   0.728908\n",
       "8      0.178899 -0.065622      18        1   0.490622\n",
       "2      0.196704 -0.071213      19        1   0.334779\n",
       "14     0.200026 -0.071921      20        1   0.287766, topic_info=               Term          Freq         Total Category  logprob  loglift\n",
       "4435             ax  41584.000000  41584.000000  Default  30.0000  30.0000\n",
       "18             line  16918.000000  16918.000000  Default  29.0000  29.0000\n",
       "207           write  13232.000000  13232.000000  Default  28.0000  28.0000\n",
       "143    organization  10186.000000  10186.000000  Default  27.0000  27.0000\n",
       "45          article   9135.000000   9135.000000  Default  26.0000  26.0000\n",
       "...             ...           ...           ...      ...      ...      ...\n",
       "1937            usa     73.728903    267.964745  Topic20  -3.9290   4.5603\n",
       "5309           vram      0.040029      1.329121  Topic20 -11.4476   2.3481\n",
       "14611    vram_simms      0.040028      1.329107  Topic20 -11.4476   2.3481\n",
       "14337      protocol      0.040028      1.329134  Topic20 -11.4476   2.3481\n",
       "7126        encrypt      0.040028      1.329183  Topic20 -11.4476   2.3480\n",
       "\n",
       "[846 rows x 6 columns], token_table=      Topic      Freq          Term\n",
       "term                               \n",
       "3348     19  0.957439      abstract\n",
       "1391      8  0.998470        accept\n",
       "3181     13  0.987488  access_digex\n",
       "1472     16  0.992801       acquire\n",
       "1554      2  0.998859           act\n",
       "...     ...       ...           ...\n",
       "812       9  0.992538     yesterday\n",
       "628       4  0.372086         young\n",
       "628       8  0.479143         young\n",
       "628       9  0.147529         young\n",
       "2247     14  0.994825          zone\n",
       "\n",
       "[1117 rows x 3 columns], R=30, lambda_step=0.01, plot_opts={'xlab': 'PC1', 'ylab': 'PC2'}, topic_order=[7, 2, 18, 13, 6, 12, 1, 20, 11, 8, 4, 19, 16, 14, 10, 17, 5, 9, 3, 15])"
      ]
     },
     "execution_count": 19,
     "metadata": {},
     "output_type": "execute_result"
    }
   ],
   "source": [
    "# Visualize the topics\n",
    "pyLDAvis.enable_notebook()\n",
    "vis = pyLDAvis.gensim_models.prepare(lda_model, corpus, id2word)\n",
    "vis"
   ]
  },
  {
   "cell_type": "code",
   "execution_count": null,
   "id": "4197042e",
   "metadata": {},
   "outputs": [],
   "source": []
  }
 ],
 "metadata": {
  "kernelspec": {
   "display_name": "Python 3 (ipykernel)",
   "language": "python",
   "name": "python3"
  },
  "language_info": {
   "codemirror_mode": {
    "name": "ipython",
    "version": 3
   },
   "file_extension": ".py",
   "mimetype": "text/x-python",
   "name": "python",
   "nbconvert_exporter": "python",
   "pygments_lexer": "ipython3",
   "version": "3.9.7"
  }
 },
 "nbformat": 4,
 "nbformat_minor": 5
}
